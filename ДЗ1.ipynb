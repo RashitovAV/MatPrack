{
  "nbformat": 4,
  "nbformat_minor": 0,
  "metadata": {
    "colab": {
      "provenance": []
    },
    "kernelspec": {
      "name": "python3",
      "display_name": "Python 3"
    },
    "language_info": {
      "name": "python"
    }
  },
  "cells": [
    {
      "cell_type": "markdown",
      "source": [
        "1)"
      ],
      "metadata": {
        "id": "wnd8aM4xootq"
      }
    },
    {
      "cell_type": "code",
      "execution_count": null,
      "metadata": {
        "id": "OLU1xAhTootq"
      },
      "outputs": [],
      "source": [
        "class Test:\n",
        "    @staticmethod\n",
        "    def assert_equals(a, b, *args, **kwargs):\n",
        "        assert a == b\n",
        "        print('Passed')\n"
      ]
    },
    {
      "cell_type": "markdown",
      "source": [
        " https://edabit.com/challenge/xRMQG4Sxewx5agDRr (2 points)\n"
      ],
      "metadata": {
        "id": "IpPZzFikootq"
      }
    },
    {
      "cell_type": "code",
      "source": [
        "def find_highest(lst):\n",
        "\tif len(lst)==0:\n",
        "\t\treturn False\n",
        "\telse:\n",
        "\t\tmax = lst[0]\n",
        "\t\tfor item in lst:\n",
        "\t\t\tif item>max:\n",
        "\t\t\t\tmax = item\n",
        "\treturn (max)"
      ],
      "metadata": {
        "id": "19X15P7kootq"
      },
      "execution_count": null,
      "outputs": []
    },
    {
      "cell_type": "code",
      "source": [
        "Test.assert_equals(find_highest([8]), 8)\n",
        "Test.assert_equals(find_highest([-1, 3, 5, 6, 99, 12, 2]), 99)\n",
        "Test.assert_equals(find_highest([0, 12, 4, 87]), 87)"
      ],
      "metadata": {
        "colab": {
          "base_uri": "https://localhost:8080/"
        },
        "outputId": "9db8b7fa-2dd7-42ac-a1ca-56f3d1008b38",
        "id": "xHBtOnd_ootr"
      },
      "execution_count": null,
      "outputs": [
        {
          "output_type": "stream",
          "name": "stdout",
          "text": [
            "Passed\n",
            "Passed\n",
            "Passed\n"
          ]
        }
      ]
    },
    {
      "cell_type": "markdown",
      "source": [
        "2)"
      ],
      "metadata": {
        "id": "-Bt5_Nqnm5_O"
      }
    },
    {
      "cell_type": "markdown",
      "source": [
        "https://edabit.com/challenge/iqaQLvS7yfGR2wJyL (1 point)"
      ],
      "metadata": {
        "id": "_BAxH346nyC2"
      }
    },
    {
      "cell_type": "code",
      "source": [
        "def num_of_digits(num):\n",
        "\treturn len(str(abs(num)))"
      ],
      "metadata": {
        "id": "vuJRKqMTn2H_"
      },
      "execution_count": null,
      "outputs": []
    },
    {
      "cell_type": "code",
      "source": [
        "Test.assert_equals(num_of_digits(13124), 5)\n",
        "Test.assert_equals(num_of_digits(0), 1)\n",
        "Test.assert_equals(num_of_digits(-12381428), 8)\n",
        "Test.assert_equals(num_of_digits(12), 2)\n",
        "Test.assert_equals(num_of_digits(42), 2)\n",
        "Test.assert_equals(num_of_digits(1000), 4)\n",
        "Test.assert_equals(num_of_digits(136), 3)\n",
        "Test.assert_equals(num_of_digits(1000000000), 10)\n",
        "Test.assert_equals(num_of_digits(2147483647), 10)\n",
        "Test.assert_equals(num_of_digits(-2147483647), 10)"
      ],
      "metadata": {
        "colab": {
          "base_uri": "https://localhost:8080/"
        },
        "id": "RcZ8URakoKEB",
        "outputId": "adf338e3-ce50-4aac-e4e8-3fe5b0991137"
      },
      "execution_count": null,
      "outputs": [
        {
          "output_type": "stream",
          "name": "stdout",
          "text": [
            "Passed\n",
            "Passed\n",
            "Passed\n",
            "Passed\n",
            "Passed\n",
            "Passed\n",
            "Passed\n",
            "Passed\n",
            "Passed\n",
            "Passed\n"
          ]
        }
      ]
    },
    {
      "cell_type": "markdown",
      "source": [
        "3)"
      ],
      "metadata": {
        "id": "m9nZH-gNoQNg"
      }
    },
    {
      "cell_type": "markdown",
      "source": [
        "https://edabit.com/challenge/Bxp6uGjgmf8TuG8Fe (2 points)"
      ],
      "metadata": {
        "id": "a5IeZzX7oeCU"
      }
    },
    {
      "cell_type": "code",
      "source": [
        "def derivative(b, m):\n",
        "\treturn(b*m**(b-1))"
      ],
      "metadata": {
        "id": "8viFKLayoeCU"
      },
      "execution_count": null,
      "outputs": []
    },
    {
      "cell_type": "code",
      "source": [
        "Test.assert_equals(derivative(1, 4), 1)\n",
        "Test.assert_equals(derivative(3, -2), 12)\n",
        "Test.assert_equals(derivative(4, -3), -108)\n",
        "Test.assert_equals(derivative(9, -5), 3515625)\n",
        "Test.assert_equals(derivative(1254, 0), 0)\n",
        "Test.assert_equals(derivative(-2, 10), -0.002)"
      ],
      "metadata": {
        "colab": {
          "base_uri": "https://localhost:8080/"
        },
        "outputId": "583acbae-0285-47a2-e1af-a32ef0224116",
        "id": "iFTtUE5BoeCV"
      },
      "execution_count": null,
      "outputs": [
        {
          "output_type": "stream",
          "name": "stdout",
          "text": [
            "Passed\n",
            "Passed\n",
            "Passed\n",
            "Passed\n",
            "Passed\n",
            "Passed\n"
          ]
        }
      ]
    },
    {
      "cell_type": "markdown",
      "source": [
        "4)"
      ],
      "metadata": {
        "id": "yeLe0TvEpFOO"
      }
    },
    {
      "cell_type": "markdown",
      "source": [
        "https://edabit.com/challenge/2zKetgAJp4WRFXiDT (2 points)"
      ],
      "metadata": {
        "id": "dx2HKpstpFOO"
      }
    },
    {
      "cell_type": "code",
      "source": [
        "def number_length(num):\n",
        "\tc = 1\n",
        "\twhile num >=1000:\n",
        "\t\tnum = (num-(num//1000))//1000\n",
        "\t\tc+=3\n",
        "\twhile num >=100:\n",
        "\t\tnum = (num-(num//100))//100\n",
        "\t\tc+=2\n",
        "\twhile num >=10:\n",
        "\t\tnum = (num-(num//10))//10\n",
        "\t\tc+=1\n",
        "\treturn (c)"
      ],
      "metadata": {
        "id": "LScZFfrYpFOO"
      },
      "execution_count": null,
      "outputs": []
    },
    {
      "cell_type": "code",
      "source": [
        "Test.assert_equals(number_length(10), 2)\n",
        "Test.assert_equals(number_length(5000), 4)\n",
        "Test.assert_equals(number_length(0), 1)\n",
        "Test.assert_equals(number_length(4039182), 7)\n",
        "Test.assert_equals(number_length(9999999999999999), 16)\n",
        "Test.assert_equals(number_length(1), 1)\n",
        "Test.assert_equals(number_length(777777777777777777777777777777), 30)"
      ],
      "metadata": {
        "colab": {
          "base_uri": "https://localhost:8080/"
        },
        "outputId": "8cfbac6e-5c08-4388-8e5f-513e1e59874b",
        "id": "zHTSSVmTpFOO"
      },
      "execution_count": null,
      "outputs": [
        {
          "output_type": "stream",
          "name": "stdout",
          "text": [
            "Passed\n",
            "Passed\n",
            "Passed\n",
            "Passed\n",
            "Passed\n",
            "Passed\n",
            "Passed\n"
          ]
        }
      ]
    },
    {
      "cell_type": "markdown",
      "source": [
        "5)"
      ],
      "metadata": {
        "id": "D8os6y-KpHIp"
      }
    },
    {
      "cell_type": "markdown",
      "source": [
        "https://edabit.com/challenge/Cjtm4CpLzHDerQMfX (2 points)"
      ],
      "metadata": {
        "id": "s08eqlmupHIp"
      }
    },
    {
      "cell_type": "code",
      "source": [
        "def area_of_country(name, area):\n",
        "\tresult = round(area / 148940000, 4) * 100\n",
        "\treturn(name+\" is \"+ str(format(result, '.2f')) + \"% of the total world's landmass\")"
      ],
      "metadata": {
        "id": "HCPJ9rdRpHIp"
      },
      "execution_count": null,
      "outputs": []
    },
    {
      "cell_type": "code",
      "source": [
        "Test.assert_equals(area_of_country(\"USA\", 9372610), \"USA is 6.29% of the total world's landmass\")\n",
        "Test.assert_equals(area_of_country(\"Russia\", 17098242), \"Russia is 11.48% of the total world's landmass\")\n",
        "Test.assert_equals(area_of_country(\"Iran\", 1648195), \"Iran is 1.11% of the total world's landmass\")\n",
        "Test.assert_equals(area_of_country(\"India\", 3287590), \"India is 2.21% of the total world's landmass\")\n",
        "Test.assert_equals(area_of_country(\"China\", 9706961), \"China is 6.52% of the total world's landmass\")\n",
        "Test.assert_equals(area_of_country(\"Yemen\", 527968), \"Yemen is 0.35% of the total world's landmass\")\n",
        "Test.assert_equals(area_of_country(\"Switzerland\", 41284), \"Switzerland is 0.03% of the total world's landmass\")"
      ],
      "metadata": {
        "colab": {
          "base_uri": "https://localhost:8080/"
        },
        "outputId": "d65a760b-00c7-424b-f959-4f57bed4475e",
        "id": "X1LG9EnwpHIq"
      },
      "execution_count": null,
      "outputs": [
        {
          "output_type": "stream",
          "name": "stdout",
          "text": [
            "Passed\n",
            "Passed\n",
            "Passed\n",
            "Passed\n",
            "Passed\n",
            "Passed\n",
            "Passed\n"
          ]
        }
      ]
    },
    {
      "cell_type": "markdown",
      "source": [
        "6)"
      ],
      "metadata": {
        "id": "LLvC8GTipHQe"
      }
    },
    {
      "cell_type": "markdown",
      "source": [
        "https://edabit.com/challenge/o2AKq4xy3nfZabKXL (2 points)"
      ],
      "metadata": {
        "id": "uUSc4g6NpHQf"
      }
    },
    {
      "cell_type": "code",
      "source": [
        "def solutions(a, b, c):\n",
        "\td = b*b-4*a*c\n",
        "\tif d==0:\n",
        "\t\treturn(1)\n",
        "\telif d>0:\n",
        "\t\treturn(2)\n",
        "\telse:\n",
        "\t\treturn(0)"
      ],
      "metadata": {
        "id": "7fMTf166pHQf"
      },
      "execution_count": null,
      "outputs": []
    },
    {
      "cell_type": "code",
      "source": [
        "Test.assert_equals(solutions(1, 0, -1), 2)\n",
        "Test.assert_equals(solutions(1, 0, 0), 1)\n",
        "Test.assert_equals(solutions(1, 0, 1), 0)\n",
        "Test.assert_equals(solutions(200, 420, 800), 0)\n",
        "Test.assert_equals(solutions(200, 420, -800), 2)\n",
        "Test.assert_equals(solutions(1000, 1000, 0), 2)\n",
        "Test.assert_equals(solutions(10000, 400, 4), 1)"
      ],
      "metadata": {
        "colab": {
          "base_uri": "https://localhost:8080/"
        },
        "outputId": "ead03592-c0e2-4c67-9aff-39f0b9fa7e50",
        "id": "grX26c6mpHQf"
      },
      "execution_count": null,
      "outputs": [
        {
          "output_type": "stream",
          "name": "stdout",
          "text": [
            "Passed\n",
            "Passed\n",
            "Passed\n",
            "Passed\n",
            "Passed\n",
            "Passed\n",
            "Passed\n"
          ]
        }
      ]
    },
    {
      "cell_type": "markdown",
      "source": [
        "7)"
      ],
      "metadata": {
        "id": "kSUZyp9YpHXG"
      }
    },
    {
      "cell_type": "markdown",
      "source": [
        "https://edabit.com/challenge/iP4ixkQffELyHvHi5 (1 point)"
      ],
      "metadata": {
        "id": "tUuPsES9pHXG"
      }
    },
    {
      "cell_type": "code",
      "source": [
        "import math\n",
        "def weight(r, h):\n",
        "\tv = math.pi*0.001*r*r*h\n",
        "\treturn(round(v,2))"
      ],
      "metadata": {
        "id": "zH317KSOpHXG"
      },
      "execution_count": null,
      "outputs": []
    },
    {
      "cell_type": "code",
      "source": [
        "Test.assert_equals(weight(4, 10), 0.5)\n",
        "Test.assert_equals(weight(30, 60), 169.65)\n",
        "Test.assert_equals(weight(15, 10), 7.07)\n",
        "Test.assert_equals(weight(20, 40), 50.27)\n",
        "Test.assert_equals(weight(100, 30), 942.48)\n",
        "Test.assert_equals(weight(200, 300), 37699.11)\n",
        "Test.assert_equals(weight(15, 23), 16.26)\n",
        "Test.assert_equals(weight(22, 44), 66.9)"
      ],
      "metadata": {
        "colab": {
          "base_uri": "https://localhost:8080/"
        },
        "outputId": "5a6702b8-da45-4e53-b914-565e2799d498",
        "id": "9rP51UKtpHXH"
      },
      "execution_count": null,
      "outputs": [
        {
          "output_type": "stream",
          "name": "stdout",
          "text": [
            "Passed\n",
            "Passed\n",
            "Passed\n",
            "Passed\n",
            "Passed\n",
            "Passed\n",
            "Passed\n",
            "Passed\n"
          ]
        }
      ]
    },
    {
      "cell_type": "markdown",
      "source": [
        "8)"
      ],
      "metadata": {
        "id": "AmLS9qMGp2PK"
      }
    },
    {
      "cell_type": "markdown",
      "source": [
        "https://edabit.com/challenge/QiPr3M5tsqfsbYcCQ (1 point)"
      ],
      "metadata": {
        "id": "noX8M2Qbp2PL"
      }
    },
    {
      "cell_type": "code",
      "source": [
        "def square_digits(n):\n",
        "\tc = \"\"\n",
        "\tfor i in str(n):\n",
        "\t\tc+=str(int(i)**2)\n",
        "\treturn(int(c))"
      ],
      "metadata": {
        "id": "K7i3mge5p2PL"
      },
      "execution_count": null,
      "outputs": []
    },
    {
      "cell_type": "code",
      "source": [
        "Test.assert_equals(square_digits(9119), 811181)\n",
        "Test.assert_equals(square_digits(8726), 6449436)\n",
        "Test.assert_equals(square_digits(9763), 8149369)\n",
        "Test.assert_equals(square_digits(2230), 4490)\n",
        "Test.assert_equals(square_digits(2797), 4498149)\n",
        "Test.assert_equals(square_digits(233), 499)\n",
        "Test.assert_equals(square_digits(7437), 4916949)\n",
        "Test.assert_equals(square_digits(2483), 416649)\n",
        "Test.assert_equals(square_digits(5742), 2549164)\n",
        "Test.assert_equals(square_digits(5636), 2536936)\n",
        "Test.assert_equals(square_digits(841), 64161)"
      ],
      "metadata": {
        "colab": {
          "base_uri": "https://localhost:8080/"
        },
        "outputId": "cc0cee03-10d3-4551-a42d-993865bdd673",
        "id": "T-1SUlFgp2PL"
      },
      "execution_count": null,
      "outputs": [
        {
          "output_type": "stream",
          "name": "stdout",
          "text": [
            "Passed\n",
            "Passed\n",
            "Passed\n",
            "Passed\n",
            "Passed\n",
            "Passed\n",
            "Passed\n",
            "Passed\n",
            "Passed\n",
            "Passed\n",
            "Passed\n"
          ]
        }
      ]
    },
    {
      "cell_type": "markdown",
      "source": [
        "9)"
      ],
      "metadata": {
        "id": "0-Et5irEDbU2"
      }
    },
    {
      "cell_type": "markdown",
      "source": [
        "https://edabit.com/challenge/2RtztnzMDdyAj2MD3 (2 points)"
      ],
      "metadata": {
        "id": "CxdeJCvSDc4v"
      }
    },
    {
      "cell_type": "code",
      "source": [
        "def add(n1, n2):\n",
        "\tif n1 == \"\" or n2==\"\" or n1==None or n2==None:\n",
        "\t\treturn(\"Invalid Operation\")\n",
        "\telse:\n",
        "\t\treturn (str(int(n1)+int(n2)))"
      ],
      "metadata": {
        "id": "tZ7nl7XEDmPW"
      },
      "execution_count": null,
      "outputs": []
    },
    {
      "cell_type": "code",
      "source": [
        "Test.assert_equals(add(\"91\", \"19\"), \"110\")\n",
        "Test.assert_equals(add(\"123456789\", \"987654322\"), \"1111111111\")\n",
        "Test.assert_equals(add(\"9999999\", \"1\"), \"10000000\")\n",
        "Test.assert_equals(add(\"300\", \"3000\"), \"3300\")\n",
        "Test.assert_equals(add(\"1000\", \"6200\"), \"7200\")\n",
        "Test.assert_equals(add(\"-10\", \"-20\"), \"-30\")\n",
        "Test.assert_equals(add(\"-100\", \"100\"), \"0\")\n",
        "Test.assert_equals(add(\"0\", \"6200\"), \"6200\")\n",
        "Test.assert_equals(add(\"\", \"6\"), \"Invalid Operation\")\n",
        "Test.assert_equals(add(\"\", None), \"Invalid Operation\")\n",
        "Test.assert_equals(add(None, \"23\"), \"Invalid Operation\")\n",
        "Test.assert_equals(add(\"\", \"20\"),\"Invalid Operation\")"
      ],
      "metadata": {
        "colab": {
          "base_uri": "https://localhost:8080/"
        },
        "id": "HyUuibWkDnqv",
        "outputId": "1d47e5be-b496-4071-ea35-834f373bd2e1"
      },
      "execution_count": null,
      "outputs": [
        {
          "output_type": "stream",
          "name": "stdout",
          "text": [
            "Passed\n",
            "Passed\n",
            "Passed\n",
            "Passed\n",
            "Passed\n",
            "Passed\n",
            "Passed\n",
            "Passed\n",
            "Passed\n",
            "Passed\n",
            "Passed\n",
            "Passed\n"
          ]
        }
      ]
    }
  ]
}