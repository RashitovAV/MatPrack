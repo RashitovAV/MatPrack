{
  "nbformat": 4,
  "nbformat_minor": 0,
  "metadata": {
    "colab": {
      "provenance": []
    },
    "kernelspec": {
      "name": "python3",
      "display_name": "Python 3"
    },
    "language_info": {
      "name": "python"
    }
  },
  "cells": [
    {
      "cell_type": "code",
      "execution_count": 3,
      "metadata": {
        "id": "ltvYRNX-EcNJ"
      },
      "outputs": [],
      "source": [
        "import numpy as np"
      ]
    },
    {
      "cell_type": "code",
      "source": [
        "# №1 Создайте массив 10х10, заполненный в центре нулями, а по границе единицами.\n",
        "a = np.ones((10, 10))\n",
        "a[1:-1,1:-1] = 0\n",
        "print(a)"
      ],
      "metadata": {
        "colab": {
          "base_uri": "https://localhost:8080/"
        },
        "id": "FtJNYESCEt2A",
        "outputId": "2f079ffe-20b5-4660-a9ec-e17d17b70583"
      },
      "execution_count": null,
      "outputs": [
        {
          "output_type": "stream",
          "name": "stdout",
          "text": [
            "[[1. 1. 1. 1. 1. 1. 1. 1. 1. 1.]\n",
            " [1. 0. 0. 0. 0. 0. 0. 0. 0. 1.]\n",
            " [1. 0. 0. 0. 0. 0. 0. 0. 0. 1.]\n",
            " [1. 0. 0. 0. 0. 0. 0. 0. 0. 1.]\n",
            " [1. 0. 0. 0. 0. 0. 0. 0. 0. 1.]\n",
            " [1. 0. 0. 0. 0. 0. 0. 0. 0. 1.]\n",
            " [1. 0. 0. 0. 0. 0. 0. 0. 0. 1.]\n",
            " [1. 0. 0. 0. 0. 0. 0. 0. 0. 1.]\n",
            " [1. 0. 0. 0. 0. 0. 0. 0. 0. 1.]\n",
            " [1. 1. 1. 1. 1. 1. 1. 1. 1. 1.]]\n"
          ]
        }
      ]
    },
    {
      "cell_type": "code",
      "source": [
        "# №2 Создайте массив 8х8, заполненный 0 и 1 в шахматном порядке.\n",
        "a = np.zeros((8,8))\n",
        "a[1::2,::2] = 1\n",
        "a[::2,1::2] = 1\n",
        "print(a)"
      ],
      "metadata": {
        "colab": {
          "base_uri": "https://localhost:8080/"
        },
        "id": "_lyo2RrpFHeX",
        "outputId": "62dbb9e4-998c-4519-fd64-9c2ed9898b38"
      },
      "execution_count": null,
      "outputs": [
        {
          "output_type": "stream",
          "name": "stdout",
          "text": [
            "[[0. 1. 0. 1. 0. 1. 0. 1.]\n",
            " [1. 0. 1. 0. 1. 0. 1. 0.]\n",
            " [0. 1. 0. 1. 0. 1. 0. 1.]\n",
            " [1. 0. 1. 0. 1. 0. 1. 0.]\n",
            " [0. 1. 0. 1. 0. 1. 0. 1.]\n",
            " [1. 0. 1. 0. 1. 0. 1. 0.]\n",
            " [0. 1. 0. 1. 0. 1. 0. 1.]\n",
            " [1. 0. 1. 0. 1. 0. 1. 0.]]\n"
          ]
        }
      ]
    },
    {
      "cell_type": "code",
      "source": [
        "# №3 Создайте матрицу 5x5 со значениями 1,2,3,4 под главной диагональю. Остальные значения - нули\n",
        "a = np.zeros((5,5))\n",
        "for i in range(1,5):\n",
        "  a[i,i-1] = i\n",
        "print(a)"
      ],
      "metadata": {
        "colab": {
          "base_uri": "https://localhost:8080/"
        },
        "id": "9cZ0ygyrHQLh",
        "outputId": "86e15f83-238a-40ef-9de6-e1952556a935"
      },
      "execution_count": null,
      "outputs": [
        {
          "output_type": "stream",
          "name": "stdout",
          "text": [
            "[[0. 0. 0. 0. 0.]\n",
            " [1. 0. 0. 0. 0.]\n",
            " [0. 2. 0. 0. 0.]\n",
            " [0. 0. 3. 0. 0.]\n",
            " [0. 0. 0. 4. 0.]]\n"
          ]
        }
      ]
    },
    {
      "cell_type": "code",
      "source": [
        "# №4 Создайте случайный массив 5х5 и нормируйте его так, чтобы среднее по каждой строке было в точности ноль.\n",
        "a = np.random.random((5, 5))\n",
        "current_sum = 0\n",
        "for i in range(0,5):\n",
        "  for j in range(0,5):\n",
        "    current_sum+=a[i,j]\n",
        "  a[i] = a[i] - current_sum/5\n",
        "  current_sum = 0\n",
        "print (a)\n",
        "#проверим, получатся очень маленькие числа, почти нули:\n",
        "for i in range(0,5):\n",
        "  for j in range(0,5):\n",
        "    current_sum += a[i,j]\n",
        "  print (current_sum)\n",
        "  current_sum = 0"
      ],
      "metadata": {
        "colab": {
          "base_uri": "https://localhost:8080/"
        },
        "id": "iwxtS6jGJE_1",
        "outputId": "3d8f336b-edcf-4728-bfc9-716978a5aed0"
      },
      "execution_count": 6,
      "outputs": [
        {
          "output_type": "stream",
          "name": "stdout",
          "text": [
            "[[-0.01862251 -0.01850096 -0.13541419  0.06502284  0.10751481]\n",
            " [-0.03992856  0.15117842 -0.27946999  0.51436021 -0.34614007]\n",
            " [ 0.40364537  0.0804738   0.42740839 -0.50526535 -0.40626222]\n",
            " [-0.28252696  0.36070975 -0.43839818 -0.18252764  0.54274302]\n",
            " [ 0.22551907  0.07057006 -0.24857187 -0.19044616  0.14292891]]\n",
            "4.440892098500626e-16\n",
            "1.1102230246251565e-16\n",
            "-1.1102230246251565e-16\n",
            "0.0\n",
            "2.7755575615628914e-16\n"
          ]
        }
      ]
    },
    {
      "cell_type": "code",
      "source": [
        "# №5 Создайте двумерный массив 10x3, заполненный случайными числами от 0 до 1. В каждой строке выберите значение, наиболее близкое к 0.5.\n",
        "a = np.random.random((10, 3))\n",
        "operation_result= []\n",
        "\n",
        "for i in range(0,10):\n",
        "  min_value = a[i,0]\n",
        "  for j in range(0,3):\n",
        "    if abs(a[i,j]-0.5) < abs(min_value-0.5):\n",
        "      min_value = a[i,j]\n",
        "  operation_result.append(min_value)\n",
        "  min_value = 0.5\n",
        "print(a)\n",
        "print(operation_result)"
      ],
      "metadata": {
        "colab": {
          "base_uri": "https://localhost:8080/"
        },
        "id": "vl_HHcyYJPkV",
        "outputId": "b281f866-3455-483f-e12f-4234051c3b19"
      },
      "execution_count": null,
      "outputs": [
        {
          "output_type": "stream",
          "name": "stdout",
          "text": [
            "[[0.88884592 0.89866651 0.87036971]\n",
            " [0.83161004 0.43491533 0.45735617]\n",
            " [0.7248648  0.22722514 0.77162084]\n",
            " [0.0082786  0.07568371 0.73102276]\n",
            " [0.60453514 0.80084725 0.77556091]\n",
            " [0.32480206 0.7376979  0.6870582 ]\n",
            " [0.79217467 0.87055257 0.32400863]\n",
            " [0.65226715 0.481569   0.68938606]\n",
            " [0.96223435 0.61546053 0.81139961]\n",
            " [0.49211679 0.10414998 0.43375724]]\n",
            "[0.8703697064095712, 0.4573561674685219, 0.7248647988042333, 0.7310227615371575, 0.6045351374306374, 0.32480205991186606, 0.3240086297303051, 0.48156900313724715, 0.6154605347081226, 0.492116788601769]\n"
          ]
        }
      ]
    },
    {
      "cell_type": "code",
      "source": [
        "# №6 Создайте двумерный массив 6x6, заполненный случайными значениями. Сумму по каждой строке поделите на максимальный элемент из столбца с тем же индексом.\n",
        "a = np.random.random((6, 6))\n",
        "operation_result = []\n",
        "resulting_sum = 0\n",
        "max_value = 0;\n",
        "for i in range (0,6):\n",
        "  for j in range(0,6):\n",
        "    if a[j,i]>max_value:\n",
        "      max_value = a[j,i]\n",
        "    resulting_sum+=a[i,j]\n",
        "  operation_result.append(resulting_sum/max_value)\n",
        "  max_value = 0\n",
        "  resulting_sum = 0\n",
        "print(a)\n",
        "print(operation_result)\n"
      ],
      "metadata": {
        "colab": {
          "base_uri": "https://localhost:8080/"
        },
        "id": "GIumuSDTJTKM",
        "outputId": "9082d79c-d2da-4d3b-ff82-91ae69fbba3d"
      },
      "execution_count": null,
      "outputs": [
        {
          "output_type": "stream",
          "name": "stdout",
          "text": [
            "[[0.88441533 0.35925675 0.71147762 0.52603032 0.74816239 0.28517162]\n",
            " [0.29162277 0.19360144 0.32148533 0.18929065 0.24587587 0.94021518]\n",
            " [0.58761162 0.71644973 0.8272187  0.30052783 0.95835383 0.70679739]\n",
            " [0.10459892 0.84452874 0.54463191 0.09273277 0.49273982 0.28985458]\n",
            " [0.91801052 0.72973195 0.81515885 0.50616785 0.33701859 0.73305049]\n",
            " [0.01736274 0.34156837 0.69507775 0.38625122 0.60203837 0.48240672]]\n",
            "[3.828402769993977, 2.583797494961895, 4.952691611217142, 4.503707539741642, 4.21466281609527, 2.6852418700013283]\n",
            "2.3905573287889834\n",
            "2.3905573361738726\n"
          ]
        }
      ]
    },
    {
      "cell_type": "code",
      "source": [
        "# №7 На примере массива x = np.array([6, 2, 0, 3, 0, 0, 5, 7, 0]) найдите максимальный элемент в массиве среди элементов, перед которыми стоит ноль.\n",
        "x = np.array([6, 2, 0, 3, 0, 0, 5, 7, 0])\n",
        "maximum = False\n",
        "for i in range(1, len(x)):\n",
        "  if x[i - 1] != 0:\n",
        "    continue\n",
        "  if maximum == False:\n",
        "    maximum = x[i]\n",
        "  if x[i] > maximum:\n",
        "    maximum = x[i]\n",
        "print(maximum)\n"
      ],
      "metadata": {
        "colab": {
          "base_uri": "https://localhost:8080/"
        },
        "id": "9abQ8J5jJUEc",
        "outputId": "64a395b4-cf9a-46e7-a4a0-7289b56ad9cc"
      },
      "execution_count": null,
      "outputs": [
        {
          "output_type": "stream",
          "name": "stdout",
          "text": [
            "5\n"
          ]
        }
      ]
    },
    {
      "cell_type": "code",
      "source": [
        "# №8 Пусть заданы два массива x = np.ones(10) и i = np.array([0, 1, 2, 3, 5, 5, 5, 8]). Прибавьте единицу к тем элементам массива x, индексы которых указаны в массиве i.\n",
        "# В случае, если некоторый индекс встретился в массиве i несколько раз, прибавьте к соответствующему элементу массива x число вхождений данного индекса в массив i.\n",
        "x = np.ones(10)\n",
        "i = np.array([0, 1, 2, 3, 5, 5, 5, 8])\n",
        "for j in range(0, len(i)):\n",
        "  x[i[j]]+=1\n",
        "print(x)"
      ],
      "metadata": {
        "colab": {
          "base_uri": "https://localhost:8080/"
        },
        "id": "u95ZeLZGJVEU",
        "outputId": "07e9d0b7-c849-415e-8407-247944ad3baa"
      },
      "execution_count": null,
      "outputs": [
        {
          "output_type": "stream",
          "name": "stdout",
          "text": [
            "[2. 2. 2. 2. 1. 4. 1. 1. 2. 1.]\n"
          ]
        }
      ]
    }
  ]
}