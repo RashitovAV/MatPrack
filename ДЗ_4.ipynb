{
  "cells": [
    {
      "cell_type": "markdown",
      "metadata": {
        "id": "omgbU3P9Jxno"
      },
      "source": [
        "### Learn Pandas in 10 minutes\n",
        "\n",
        "[https://pandas.pydata.org/pandas-docs/stable/10min.html](https://pandas.pydata.org/pandas-docs/stable/10min.html)"
      ]
    },
    {
      "cell_type": "code",
      "execution_count": 54,
      "metadata": {
        "id": "ic6jYFWHJxnq"
      },
      "outputs": [],
      "source": [
        "import pandas as pd\n",
        "import numpy as np\n",
        "import matplotlib.pyplot as plt"
      ]
    },
    {
      "cell_type": "markdown",
      "metadata": {
        "id": "lpRrwLtZJxns"
      },
      "source": [
        "### Датасет\n",
        "Мы будем работать с датасетом задержек авиарейсов https://www.kaggle.com/datasets/usdot/flight-delays. Скачайте файлы из этого датасета."
      ]
    },
    {
      "cell_type": "markdown",
      "metadata": {
        "id": "cAd5X_kYWt5J"
      },
      "source": [
        "### Чтение данных\n",
        "\n",
        "`pd.read_csv` считает таблицу в объект типа датафрейм.\n",
        "При чтении таблицы возникает некий Warning - про него поговорим чуть позже.\n",
        "\n",
        "`df.head` покажет пять (по умолчанию) верхних строк таблицы:"
      ]
    },
    {
      "cell_type": "code",
      "execution_count": 55,
      "metadata": {
        "id": "vTn2L1EnJxnt",
        "outputId": "918ddb19-b6ac-4878-a940-0742aa93f9f9",
        "colab": {
          "base_uri": "https://localhost:8080/",
          "height": 290
        }
      },
      "outputs": [
        {
          "output_type": "stream",
          "name": "stderr",
          "text": [
            "<ipython-input-55-57bb545140ca>:1: DtypeWarning: Columns (7,8) have mixed types. Specify dtype option on import or set low_memory=False.\n",
            "  df = pd.read_csv('sample_data/flights.csv')\n"
          ]
        },
        {
          "output_type": "execute_result",
          "data": {
            "text/plain": [
              "   YEAR  MONTH  DAY  DAY_OF_WEEK AIRLINE  FLIGHT_NUMBER TAIL_NUMBER  \\\n",
              "0  2015      1    1            4      AS             98      N407AS   \n",
              "1  2015      1    1            4      AA           2336      N3KUAA   \n",
              "2  2015      1    1            4      US            840      N171US   \n",
              "3  2015      1    1            4      AA            258      N3HYAA   \n",
              "4  2015      1    1            4      AS            135      N527AS   \n",
              "\n",
              "  ORIGIN_AIRPORT DESTINATION_AIRPORT  SCHEDULED_DEPARTURE  ...  ARRIVAL_TIME  \\\n",
              "0            ANC                 SEA                    5  ...         408.0   \n",
              "1            LAX                 PBI                   10  ...         741.0   \n",
              "2            SFO                 CLT                   20  ...         811.0   \n",
              "3            LAX                 MIA                   20  ...         756.0   \n",
              "4            SEA                 ANC                   25  ...         259.0   \n",
              "\n",
              "   ARRIVAL_DELAY  DIVERTED  CANCELLED  CANCELLATION_REASON  AIR_SYSTEM_DELAY  \\\n",
              "0          -22.0         0          0                  NaN               NaN   \n",
              "1           -9.0         0          0                  NaN               NaN   \n",
              "2            5.0         0          0                  NaN               NaN   \n",
              "3           -9.0         0          0                  NaN               NaN   \n",
              "4          -21.0         0          0                  NaN               NaN   \n",
              "\n",
              "   SECURITY_DELAY  AIRLINE_DELAY  LATE_AIRCRAFT_DELAY  WEATHER_DELAY  \n",
              "0             NaN            NaN                  NaN            NaN  \n",
              "1             NaN            NaN                  NaN            NaN  \n",
              "2             NaN            NaN                  NaN            NaN  \n",
              "3             NaN            NaN                  NaN            NaN  \n",
              "4             NaN            NaN                  NaN            NaN  \n",
              "\n",
              "[5 rows x 31 columns]"
            ],
            "text/html": [
              "\n",
              "  <div id=\"df-a8d88a7f-1660-4214-a7bf-697b3c2d6648\" class=\"colab-df-container\">\n",
              "    <div>\n",
              "<style scoped>\n",
              "    .dataframe tbody tr th:only-of-type {\n",
              "        vertical-align: middle;\n",
              "    }\n",
              "\n",
              "    .dataframe tbody tr th {\n",
              "        vertical-align: top;\n",
              "    }\n",
              "\n",
              "    .dataframe thead th {\n",
              "        text-align: right;\n",
              "    }\n",
              "</style>\n",
              "<table border=\"1\" class=\"dataframe\">\n",
              "  <thead>\n",
              "    <tr style=\"text-align: right;\">\n",
              "      <th></th>\n",
              "      <th>YEAR</th>\n",
              "      <th>MONTH</th>\n",
              "      <th>DAY</th>\n",
              "      <th>DAY_OF_WEEK</th>\n",
              "      <th>AIRLINE</th>\n",
              "      <th>FLIGHT_NUMBER</th>\n",
              "      <th>TAIL_NUMBER</th>\n",
              "      <th>ORIGIN_AIRPORT</th>\n",
              "      <th>DESTINATION_AIRPORT</th>\n",
              "      <th>SCHEDULED_DEPARTURE</th>\n",
              "      <th>...</th>\n",
              "      <th>ARRIVAL_TIME</th>\n",
              "      <th>ARRIVAL_DELAY</th>\n",
              "      <th>DIVERTED</th>\n",
              "      <th>CANCELLED</th>\n",
              "      <th>CANCELLATION_REASON</th>\n",
              "      <th>AIR_SYSTEM_DELAY</th>\n",
              "      <th>SECURITY_DELAY</th>\n",
              "      <th>AIRLINE_DELAY</th>\n",
              "      <th>LATE_AIRCRAFT_DELAY</th>\n",
              "      <th>WEATHER_DELAY</th>\n",
              "    </tr>\n",
              "  </thead>\n",
              "  <tbody>\n",
              "    <tr>\n",
              "      <th>0</th>\n",
              "      <td>2015</td>\n",
              "      <td>1</td>\n",
              "      <td>1</td>\n",
              "      <td>4</td>\n",
              "      <td>AS</td>\n",
              "      <td>98</td>\n",
              "      <td>N407AS</td>\n",
              "      <td>ANC</td>\n",
              "      <td>SEA</td>\n",
              "      <td>5</td>\n",
              "      <td>...</td>\n",
              "      <td>408.0</td>\n",
              "      <td>-22.0</td>\n",
              "      <td>0</td>\n",
              "      <td>0</td>\n",
              "      <td>NaN</td>\n",
              "      <td>NaN</td>\n",
              "      <td>NaN</td>\n",
              "      <td>NaN</td>\n",
              "      <td>NaN</td>\n",
              "      <td>NaN</td>\n",
              "    </tr>\n",
              "    <tr>\n",
              "      <th>1</th>\n",
              "      <td>2015</td>\n",
              "      <td>1</td>\n",
              "      <td>1</td>\n",
              "      <td>4</td>\n",
              "      <td>AA</td>\n",
              "      <td>2336</td>\n",
              "      <td>N3KUAA</td>\n",
              "      <td>LAX</td>\n",
              "      <td>PBI</td>\n",
              "      <td>10</td>\n",
              "      <td>...</td>\n",
              "      <td>741.0</td>\n",
              "      <td>-9.0</td>\n",
              "      <td>0</td>\n",
              "      <td>0</td>\n",
              "      <td>NaN</td>\n",
              "      <td>NaN</td>\n",
              "      <td>NaN</td>\n",
              "      <td>NaN</td>\n",
              "      <td>NaN</td>\n",
              "      <td>NaN</td>\n",
              "    </tr>\n",
              "    <tr>\n",
              "      <th>2</th>\n",
              "      <td>2015</td>\n",
              "      <td>1</td>\n",
              "      <td>1</td>\n",
              "      <td>4</td>\n",
              "      <td>US</td>\n",
              "      <td>840</td>\n",
              "      <td>N171US</td>\n",
              "      <td>SFO</td>\n",
              "      <td>CLT</td>\n",
              "      <td>20</td>\n",
              "      <td>...</td>\n",
              "      <td>811.0</td>\n",
              "      <td>5.0</td>\n",
              "      <td>0</td>\n",
              "      <td>0</td>\n",
              "      <td>NaN</td>\n",
              "      <td>NaN</td>\n",
              "      <td>NaN</td>\n",
              "      <td>NaN</td>\n",
              "      <td>NaN</td>\n",
              "      <td>NaN</td>\n",
              "    </tr>\n",
              "    <tr>\n",
              "      <th>3</th>\n",
              "      <td>2015</td>\n",
              "      <td>1</td>\n",
              "      <td>1</td>\n",
              "      <td>4</td>\n",
              "      <td>AA</td>\n",
              "      <td>258</td>\n",
              "      <td>N3HYAA</td>\n",
              "      <td>LAX</td>\n",
              "      <td>MIA</td>\n",
              "      <td>20</td>\n",
              "      <td>...</td>\n",
              "      <td>756.0</td>\n",
              "      <td>-9.0</td>\n",
              "      <td>0</td>\n",
              "      <td>0</td>\n",
              "      <td>NaN</td>\n",
              "      <td>NaN</td>\n",
              "      <td>NaN</td>\n",
              "      <td>NaN</td>\n",
              "      <td>NaN</td>\n",
              "      <td>NaN</td>\n",
              "    </tr>\n",
              "    <tr>\n",
              "      <th>4</th>\n",
              "      <td>2015</td>\n",
              "      <td>1</td>\n",
              "      <td>1</td>\n",
              "      <td>4</td>\n",
              "      <td>AS</td>\n",
              "      <td>135</td>\n",
              "      <td>N527AS</td>\n",
              "      <td>SEA</td>\n",
              "      <td>ANC</td>\n",
              "      <td>25</td>\n",
              "      <td>...</td>\n",
              "      <td>259.0</td>\n",
              "      <td>-21.0</td>\n",
              "      <td>0</td>\n",
              "      <td>0</td>\n",
              "      <td>NaN</td>\n",
              "      <td>NaN</td>\n",
              "      <td>NaN</td>\n",
              "      <td>NaN</td>\n",
              "      <td>NaN</td>\n",
              "      <td>NaN</td>\n",
              "    </tr>\n",
              "  </tbody>\n",
              "</table>\n",
              "<p>5 rows × 31 columns</p>\n",
              "</div>\n",
              "    <div class=\"colab-df-buttons\">\n",
              "\n",
              "  <div class=\"colab-df-container\">\n",
              "    <button class=\"colab-df-convert\" onclick=\"convertToInteractive('df-a8d88a7f-1660-4214-a7bf-697b3c2d6648')\"\n",
              "            title=\"Convert this dataframe to an interactive table.\"\n",
              "            style=\"display:none;\">\n",
              "\n",
              "  <svg xmlns=\"http://www.w3.org/2000/svg\" height=\"24px\" viewBox=\"0 -960 960 960\">\n",
              "    <path d=\"M120-120v-720h720v720H120Zm60-500h600v-160H180v160Zm220 220h160v-160H400v160Zm0 220h160v-160H400v160ZM180-400h160v-160H180v160Zm440 0h160v-160H620v160ZM180-180h160v-160H180v160Zm440 0h160v-160H620v160Z\"/>\n",
              "  </svg>\n",
              "    </button>\n",
              "\n",
              "  <style>\n",
              "    .colab-df-container {\n",
              "      display:flex;\n",
              "      gap: 12px;\n",
              "    }\n",
              "\n",
              "    .colab-df-convert {\n",
              "      background-color: #E8F0FE;\n",
              "      border: none;\n",
              "      border-radius: 50%;\n",
              "      cursor: pointer;\n",
              "      display: none;\n",
              "      fill: #1967D2;\n",
              "      height: 32px;\n",
              "      padding: 0 0 0 0;\n",
              "      width: 32px;\n",
              "    }\n",
              "\n",
              "    .colab-df-convert:hover {\n",
              "      background-color: #E2EBFA;\n",
              "      box-shadow: 0px 1px 2px rgba(60, 64, 67, 0.3), 0px 1px 3px 1px rgba(60, 64, 67, 0.15);\n",
              "      fill: #174EA6;\n",
              "    }\n",
              "\n",
              "    .colab-df-buttons div {\n",
              "      margin-bottom: 4px;\n",
              "    }\n",
              "\n",
              "    [theme=dark] .colab-df-convert {\n",
              "      background-color: #3B4455;\n",
              "      fill: #D2E3FC;\n",
              "    }\n",
              "\n",
              "    [theme=dark] .colab-df-convert:hover {\n",
              "      background-color: #434B5C;\n",
              "      box-shadow: 0px 1px 3px 1px rgba(0, 0, 0, 0.15);\n",
              "      filter: drop-shadow(0px 1px 2px rgba(0, 0, 0, 0.3));\n",
              "      fill: #FFFFFF;\n",
              "    }\n",
              "  </style>\n",
              "\n",
              "    <script>\n",
              "      const buttonEl =\n",
              "        document.querySelector('#df-a8d88a7f-1660-4214-a7bf-697b3c2d6648 button.colab-df-convert');\n",
              "      buttonEl.style.display =\n",
              "        google.colab.kernel.accessAllowed ? 'block' : 'none';\n",
              "\n",
              "      async function convertToInteractive(key) {\n",
              "        const element = document.querySelector('#df-a8d88a7f-1660-4214-a7bf-697b3c2d6648');\n",
              "        const dataTable =\n",
              "          await google.colab.kernel.invokeFunction('convertToInteractive',\n",
              "                                                    [key], {});\n",
              "        if (!dataTable) return;\n",
              "\n",
              "        const docLinkHtml = 'Like what you see? Visit the ' +\n",
              "          '<a target=\"_blank\" href=https://colab.research.google.com/notebooks/data_table.ipynb>data table notebook</a>'\n",
              "          + ' to learn more about interactive tables.';\n",
              "        element.innerHTML = '';\n",
              "        dataTable['output_type'] = 'display_data';\n",
              "        await google.colab.output.renderOutput(dataTable, element);\n",
              "        const docLink = document.createElement('div');\n",
              "        docLink.innerHTML = docLinkHtml;\n",
              "        element.appendChild(docLink);\n",
              "      }\n",
              "    </script>\n",
              "  </div>\n",
              "\n",
              "\n",
              "<div id=\"df-ce6ab0de-9d32-4b64-be42-3cdb89dfe746\">\n",
              "  <button class=\"colab-df-quickchart\" onclick=\"quickchart('df-ce6ab0de-9d32-4b64-be42-3cdb89dfe746')\"\n",
              "            title=\"Suggest charts.\"\n",
              "            style=\"display:none;\">\n",
              "\n",
              "<svg xmlns=\"http://www.w3.org/2000/svg\" height=\"24px\"viewBox=\"0 0 24 24\"\n",
              "     width=\"24px\">\n",
              "    <g>\n",
              "        <path d=\"M19 3H5c-1.1 0-2 .9-2 2v14c0 1.1.9 2 2 2h14c1.1 0 2-.9 2-2V5c0-1.1-.9-2-2-2zM9 17H7v-7h2v7zm4 0h-2V7h2v10zm4 0h-2v-4h2v4z\"/>\n",
              "    </g>\n",
              "</svg>\n",
              "  </button>\n",
              "\n",
              "<style>\n",
              "  .colab-df-quickchart {\n",
              "      --bg-color: #E8F0FE;\n",
              "      --fill-color: #1967D2;\n",
              "      --hover-bg-color: #E2EBFA;\n",
              "      --hover-fill-color: #174EA6;\n",
              "      --disabled-fill-color: #AAA;\n",
              "      --disabled-bg-color: #DDD;\n",
              "  }\n",
              "\n",
              "  [theme=dark] .colab-df-quickchart {\n",
              "      --bg-color: #3B4455;\n",
              "      --fill-color: #D2E3FC;\n",
              "      --hover-bg-color: #434B5C;\n",
              "      --hover-fill-color: #FFFFFF;\n",
              "      --disabled-bg-color: #3B4455;\n",
              "      --disabled-fill-color: #666;\n",
              "  }\n",
              "\n",
              "  .colab-df-quickchart {\n",
              "    background-color: var(--bg-color);\n",
              "    border: none;\n",
              "    border-radius: 50%;\n",
              "    cursor: pointer;\n",
              "    display: none;\n",
              "    fill: var(--fill-color);\n",
              "    height: 32px;\n",
              "    padding: 0;\n",
              "    width: 32px;\n",
              "  }\n",
              "\n",
              "  .colab-df-quickchart:hover {\n",
              "    background-color: var(--hover-bg-color);\n",
              "    box-shadow: 0 1px 2px rgba(60, 64, 67, 0.3), 0 1px 3px 1px rgba(60, 64, 67, 0.15);\n",
              "    fill: var(--button-hover-fill-color);\n",
              "  }\n",
              "\n",
              "  .colab-df-quickchart-complete:disabled,\n",
              "  .colab-df-quickchart-complete:disabled:hover {\n",
              "    background-color: var(--disabled-bg-color);\n",
              "    fill: var(--disabled-fill-color);\n",
              "    box-shadow: none;\n",
              "  }\n",
              "\n",
              "  .colab-df-spinner {\n",
              "    border: 2px solid var(--fill-color);\n",
              "    border-color: transparent;\n",
              "    border-bottom-color: var(--fill-color);\n",
              "    animation:\n",
              "      spin 1s steps(1) infinite;\n",
              "  }\n",
              "\n",
              "  @keyframes spin {\n",
              "    0% {\n",
              "      border-color: transparent;\n",
              "      border-bottom-color: var(--fill-color);\n",
              "      border-left-color: var(--fill-color);\n",
              "    }\n",
              "    20% {\n",
              "      border-color: transparent;\n",
              "      border-left-color: var(--fill-color);\n",
              "      border-top-color: var(--fill-color);\n",
              "    }\n",
              "    30% {\n",
              "      border-color: transparent;\n",
              "      border-left-color: var(--fill-color);\n",
              "      border-top-color: var(--fill-color);\n",
              "      border-right-color: var(--fill-color);\n",
              "    }\n",
              "    40% {\n",
              "      border-color: transparent;\n",
              "      border-right-color: var(--fill-color);\n",
              "      border-top-color: var(--fill-color);\n",
              "    }\n",
              "    60% {\n",
              "      border-color: transparent;\n",
              "      border-right-color: var(--fill-color);\n",
              "    }\n",
              "    80% {\n",
              "      border-color: transparent;\n",
              "      border-right-color: var(--fill-color);\n",
              "      border-bottom-color: var(--fill-color);\n",
              "    }\n",
              "    90% {\n",
              "      border-color: transparent;\n",
              "      border-bottom-color: var(--fill-color);\n",
              "    }\n",
              "  }\n",
              "</style>\n",
              "\n",
              "  <script>\n",
              "    async function quickchart(key) {\n",
              "      const quickchartButtonEl =\n",
              "        document.querySelector('#' + key + ' button');\n",
              "      quickchartButtonEl.disabled = true;  // To prevent multiple clicks.\n",
              "      quickchartButtonEl.classList.add('colab-df-spinner');\n",
              "      try {\n",
              "        const charts = await google.colab.kernel.invokeFunction(\n",
              "            'suggestCharts', [key], {});\n",
              "      } catch (error) {\n",
              "        console.error('Error during call to suggestCharts:', error);\n",
              "      }\n",
              "      quickchartButtonEl.classList.remove('colab-df-spinner');\n",
              "      quickchartButtonEl.classList.add('colab-df-quickchart-complete');\n",
              "    }\n",
              "    (() => {\n",
              "      let quickchartButtonEl =\n",
              "        document.querySelector('#df-ce6ab0de-9d32-4b64-be42-3cdb89dfe746 button');\n",
              "      quickchartButtonEl.style.display =\n",
              "        google.colab.kernel.accessAllowed ? 'block' : 'none';\n",
              "    })();\n",
              "  </script>\n",
              "</div>\n",
              "    </div>\n",
              "  </div>\n"
            ]
          },
          "metadata": {},
          "execution_count": 55
        }
      ],
      "source": [
        "df = pd.read_csv('sample_data/flights.csv')\n",
        "df.head()"
      ]
    },
    {
      "cell_type": "markdown",
      "metadata": {
        "id": "inSpEMYOWt5K"
      },
      "source": [
        "Из чего состоит таблица"
      ]
    },
    {
      "cell_type": "markdown",
      "metadata": {
        "id": "ioGvbfTZWt5L"
      },
      "source": [
        "![](https://media.geeksforgeeks.org/wp-content/cdn-uploads/creating_dataframe1.png)"
      ]
    },
    {
      "cell_type": "markdown",
      "metadata": {
        "id": "RGz_HMYLWt5M"
      },
      "source": [
        "Индексация строк/столбцов"
      ]
    },
    {
      "cell_type": "markdown",
      "metadata": {
        "id": "gG1R6BWbWt5M"
      },
      "source": [
        "![](https://i0.wp.com/sparkbyexamples.com/wp-content/uploads/2021/10/pandas-difference-loc-vs-iloc.png?resize=840%2C353&ssl=1)"
      ]
    },
    {
      "cell_type": "markdown",
      "metadata": {
        "id": "uzVG1CO9Wt5N"
      },
      "source": [
        "Размеры таблицы"
      ]
    },
    {
      "cell_type": "code",
      "execution_count": null,
      "metadata": {
        "id": "PzQ24nzM8c_y",
        "colab": {
          "base_uri": "https://localhost:8080/"
        },
        "outputId": "04827f12-3369-4aff-c766-094f3bee113b"
      },
      "outputs": [
        {
          "output_type": "execute_result",
          "data": {
            "text/plain": [
              "(289800, (289800, 31))"
            ]
          },
          "metadata": {},
          "execution_count": 4
        }
      ],
      "source": [
        "len(df), df.shape"
      ]
    },
    {
      "cell_type": "markdown",
      "metadata": {
        "id": "sKzcpfF-Wt5O"
      },
      "source": [
        "Список названий колонок"
      ]
    },
    {
      "cell_type": "code",
      "execution_count": null,
      "metadata": {
        "id": "6Xe63qvYJxn1"
      },
      "outputs": [],
      "source": [
        "df.columns"
      ]
    },
    {
      "cell_type": "markdown",
      "metadata": {
        "id": "InEa_iwJWt5O"
      },
      "source": [
        "Базовая информация по колонкам"
      ]
    },
    {
      "cell_type": "code",
      "execution_count": null,
      "metadata": {
        "id": "ZKM0rzQ2Wt5O"
      },
      "outputs": [],
      "source": [
        "print(df.info(null_counts=True))"
      ]
    },
    {
      "cell_type": "markdown",
      "metadata": {
        "id": "aTSlk3rEWt5P"
      },
      "source": [
        "Пришло время вспомнить про warning, который возникал при чтении таблицы. Он связан с тем, что данные в таблицы неоднородны по типу. Как одно из побочных явлений - обратите внимание на колонки, в которых по смыслу стоит время. Они при чтении преобразовались в тип float. В результате запись 0005 превратилась в число 5. Чтобы избежать таких проблем, будем считывать данные как строковые переменные:"
      ]
    },
    {
      "cell_type": "code",
      "execution_count": 133,
      "metadata": {
        "id": "Yiko1DUBWt5P",
        "colab": {
          "base_uri": "https://localhost:8080/",
          "height": 255
        },
        "outputId": "05400b4c-ffae-422b-ce14-9ed141cbda50"
      },
      "outputs": [
        {
          "output_type": "execute_result",
          "data": {
            "text/plain": [
              "   YEAR MONTH DAY DAY_OF_WEEK AIRLINE FLIGHT_NUMBER TAIL_NUMBER  \\\n",
              "0  2015     1   1           4      AS            98      N407AS   \n",
              "1  2015     1   1           4      AA          2336      N3KUAA   \n",
              "2  2015     1   1           4      US           840      N171US   \n",
              "3  2015     1   1           4      AA           258      N3HYAA   \n",
              "4  2015     1   1           4      AS           135      N527AS   \n",
              "\n",
              "  ORIGIN_AIRPORT DESTINATION_AIRPORT SCHEDULED_DEPARTURE  ... ARRIVAL_TIME  \\\n",
              "0            ANC                 SEA                0005  ...         0408   \n",
              "1            LAX                 PBI                0010  ...         0741   \n",
              "2            SFO                 CLT                0020  ...         0811   \n",
              "3            LAX                 MIA                0020  ...         0756   \n",
              "4            SEA                 ANC                0025  ...         0259   \n",
              "\n",
              "  ARRIVAL_DELAY DIVERTED CANCELLED CANCELLATION_REASON AIR_SYSTEM_DELAY  \\\n",
              "0           -22        0         0                 NaN              NaN   \n",
              "1            -9        0         0                 NaN              NaN   \n",
              "2             5        0         0                 NaN              NaN   \n",
              "3            -9        0         0                 NaN              NaN   \n",
              "4           -21        0         0                 NaN              NaN   \n",
              "\n",
              "  SECURITY_DELAY AIRLINE_DELAY LATE_AIRCRAFT_DELAY WEATHER_DELAY  \n",
              "0            NaN           NaN                 NaN           NaN  \n",
              "1            NaN           NaN                 NaN           NaN  \n",
              "2            NaN           NaN                 NaN           NaN  \n",
              "3            NaN           NaN                 NaN           NaN  \n",
              "4            NaN           NaN                 NaN           NaN  \n",
              "\n",
              "[5 rows x 31 columns]"
            ],
            "text/html": [
              "\n",
              "  <div id=\"df-82b2fdd4-291b-4fb6-a83c-e4f08e0c426e\" class=\"colab-df-container\">\n",
              "    <div>\n",
              "<style scoped>\n",
              "    .dataframe tbody tr th:only-of-type {\n",
              "        vertical-align: middle;\n",
              "    }\n",
              "\n",
              "    .dataframe tbody tr th {\n",
              "        vertical-align: top;\n",
              "    }\n",
              "\n",
              "    .dataframe thead th {\n",
              "        text-align: right;\n",
              "    }\n",
              "</style>\n",
              "<table border=\"1\" class=\"dataframe\">\n",
              "  <thead>\n",
              "    <tr style=\"text-align: right;\">\n",
              "      <th></th>\n",
              "      <th>YEAR</th>\n",
              "      <th>MONTH</th>\n",
              "      <th>DAY</th>\n",
              "      <th>DAY_OF_WEEK</th>\n",
              "      <th>AIRLINE</th>\n",
              "      <th>FLIGHT_NUMBER</th>\n",
              "      <th>TAIL_NUMBER</th>\n",
              "      <th>ORIGIN_AIRPORT</th>\n",
              "      <th>DESTINATION_AIRPORT</th>\n",
              "      <th>SCHEDULED_DEPARTURE</th>\n",
              "      <th>...</th>\n",
              "      <th>ARRIVAL_TIME</th>\n",
              "      <th>ARRIVAL_DELAY</th>\n",
              "      <th>DIVERTED</th>\n",
              "      <th>CANCELLED</th>\n",
              "      <th>CANCELLATION_REASON</th>\n",
              "      <th>AIR_SYSTEM_DELAY</th>\n",
              "      <th>SECURITY_DELAY</th>\n",
              "      <th>AIRLINE_DELAY</th>\n",
              "      <th>LATE_AIRCRAFT_DELAY</th>\n",
              "      <th>WEATHER_DELAY</th>\n",
              "    </tr>\n",
              "  </thead>\n",
              "  <tbody>\n",
              "    <tr>\n",
              "      <th>0</th>\n",
              "      <td>2015</td>\n",
              "      <td>1</td>\n",
              "      <td>1</td>\n",
              "      <td>4</td>\n",
              "      <td>AS</td>\n",
              "      <td>98</td>\n",
              "      <td>N407AS</td>\n",
              "      <td>ANC</td>\n",
              "      <td>SEA</td>\n",
              "      <td>0005</td>\n",
              "      <td>...</td>\n",
              "      <td>0408</td>\n",
              "      <td>-22</td>\n",
              "      <td>0</td>\n",
              "      <td>0</td>\n",
              "      <td>NaN</td>\n",
              "      <td>NaN</td>\n",
              "      <td>NaN</td>\n",
              "      <td>NaN</td>\n",
              "      <td>NaN</td>\n",
              "      <td>NaN</td>\n",
              "    </tr>\n",
              "    <tr>\n",
              "      <th>1</th>\n",
              "      <td>2015</td>\n",
              "      <td>1</td>\n",
              "      <td>1</td>\n",
              "      <td>4</td>\n",
              "      <td>AA</td>\n",
              "      <td>2336</td>\n",
              "      <td>N3KUAA</td>\n",
              "      <td>LAX</td>\n",
              "      <td>PBI</td>\n",
              "      <td>0010</td>\n",
              "      <td>...</td>\n",
              "      <td>0741</td>\n",
              "      <td>-9</td>\n",
              "      <td>0</td>\n",
              "      <td>0</td>\n",
              "      <td>NaN</td>\n",
              "      <td>NaN</td>\n",
              "      <td>NaN</td>\n",
              "      <td>NaN</td>\n",
              "      <td>NaN</td>\n",
              "      <td>NaN</td>\n",
              "    </tr>\n",
              "    <tr>\n",
              "      <th>2</th>\n",
              "      <td>2015</td>\n",
              "      <td>1</td>\n",
              "      <td>1</td>\n",
              "      <td>4</td>\n",
              "      <td>US</td>\n",
              "      <td>840</td>\n",
              "      <td>N171US</td>\n",
              "      <td>SFO</td>\n",
              "      <td>CLT</td>\n",
              "      <td>0020</td>\n",
              "      <td>...</td>\n",
              "      <td>0811</td>\n",
              "      <td>5</td>\n",
              "      <td>0</td>\n",
              "      <td>0</td>\n",
              "      <td>NaN</td>\n",
              "      <td>NaN</td>\n",
              "      <td>NaN</td>\n",
              "      <td>NaN</td>\n",
              "      <td>NaN</td>\n",
              "      <td>NaN</td>\n",
              "    </tr>\n",
              "    <tr>\n",
              "      <th>3</th>\n",
              "      <td>2015</td>\n",
              "      <td>1</td>\n",
              "      <td>1</td>\n",
              "      <td>4</td>\n",
              "      <td>AA</td>\n",
              "      <td>258</td>\n",
              "      <td>N3HYAA</td>\n",
              "      <td>LAX</td>\n",
              "      <td>MIA</td>\n",
              "      <td>0020</td>\n",
              "      <td>...</td>\n",
              "      <td>0756</td>\n",
              "      <td>-9</td>\n",
              "      <td>0</td>\n",
              "      <td>0</td>\n",
              "      <td>NaN</td>\n",
              "      <td>NaN</td>\n",
              "      <td>NaN</td>\n",
              "      <td>NaN</td>\n",
              "      <td>NaN</td>\n",
              "      <td>NaN</td>\n",
              "    </tr>\n",
              "    <tr>\n",
              "      <th>4</th>\n",
              "      <td>2015</td>\n",
              "      <td>1</td>\n",
              "      <td>1</td>\n",
              "      <td>4</td>\n",
              "      <td>AS</td>\n",
              "      <td>135</td>\n",
              "      <td>N527AS</td>\n",
              "      <td>SEA</td>\n",
              "      <td>ANC</td>\n",
              "      <td>0025</td>\n",
              "      <td>...</td>\n",
              "      <td>0259</td>\n",
              "      <td>-21</td>\n",
              "      <td>0</td>\n",
              "      <td>0</td>\n",
              "      <td>NaN</td>\n",
              "      <td>NaN</td>\n",
              "      <td>NaN</td>\n",
              "      <td>NaN</td>\n",
              "      <td>NaN</td>\n",
              "      <td>NaN</td>\n",
              "    </tr>\n",
              "  </tbody>\n",
              "</table>\n",
              "<p>5 rows × 31 columns</p>\n",
              "</div>\n",
              "    <div class=\"colab-df-buttons\">\n",
              "\n",
              "  <div class=\"colab-df-container\">\n",
              "    <button class=\"colab-df-convert\" onclick=\"convertToInteractive('df-82b2fdd4-291b-4fb6-a83c-e4f08e0c426e')\"\n",
              "            title=\"Convert this dataframe to an interactive table.\"\n",
              "            style=\"display:none;\">\n",
              "\n",
              "  <svg xmlns=\"http://www.w3.org/2000/svg\" height=\"24px\" viewBox=\"0 -960 960 960\">\n",
              "    <path d=\"M120-120v-720h720v720H120Zm60-500h600v-160H180v160Zm220 220h160v-160H400v160Zm0 220h160v-160H400v160ZM180-400h160v-160H180v160Zm440 0h160v-160H620v160ZM180-180h160v-160H180v160Zm440 0h160v-160H620v160Z\"/>\n",
              "  </svg>\n",
              "    </button>\n",
              "\n",
              "  <style>\n",
              "    .colab-df-container {\n",
              "      display:flex;\n",
              "      gap: 12px;\n",
              "    }\n",
              "\n",
              "    .colab-df-convert {\n",
              "      background-color: #E8F0FE;\n",
              "      border: none;\n",
              "      border-radius: 50%;\n",
              "      cursor: pointer;\n",
              "      display: none;\n",
              "      fill: #1967D2;\n",
              "      height: 32px;\n",
              "      padding: 0 0 0 0;\n",
              "      width: 32px;\n",
              "    }\n",
              "\n",
              "    .colab-df-convert:hover {\n",
              "      background-color: #E2EBFA;\n",
              "      box-shadow: 0px 1px 2px rgba(60, 64, 67, 0.3), 0px 1px 3px 1px rgba(60, 64, 67, 0.15);\n",
              "      fill: #174EA6;\n",
              "    }\n",
              "\n",
              "    .colab-df-buttons div {\n",
              "      margin-bottom: 4px;\n",
              "    }\n",
              "\n",
              "    [theme=dark] .colab-df-convert {\n",
              "      background-color: #3B4455;\n",
              "      fill: #D2E3FC;\n",
              "    }\n",
              "\n",
              "    [theme=dark] .colab-df-convert:hover {\n",
              "      background-color: #434B5C;\n",
              "      box-shadow: 0px 1px 3px 1px rgba(0, 0, 0, 0.15);\n",
              "      filter: drop-shadow(0px 1px 2px rgba(0, 0, 0, 0.3));\n",
              "      fill: #FFFFFF;\n",
              "    }\n",
              "  </style>\n",
              "\n",
              "    <script>\n",
              "      const buttonEl =\n",
              "        document.querySelector('#df-82b2fdd4-291b-4fb6-a83c-e4f08e0c426e button.colab-df-convert');\n",
              "      buttonEl.style.display =\n",
              "        google.colab.kernel.accessAllowed ? 'block' : 'none';\n",
              "\n",
              "      async function convertToInteractive(key) {\n",
              "        const element = document.querySelector('#df-82b2fdd4-291b-4fb6-a83c-e4f08e0c426e');\n",
              "        const dataTable =\n",
              "          await google.colab.kernel.invokeFunction('convertToInteractive',\n",
              "                                                    [key], {});\n",
              "        if (!dataTable) return;\n",
              "\n",
              "        const docLinkHtml = 'Like what you see? Visit the ' +\n",
              "          '<a target=\"_blank\" href=https://colab.research.google.com/notebooks/data_table.ipynb>data table notebook</a>'\n",
              "          + ' to learn more about interactive tables.';\n",
              "        element.innerHTML = '';\n",
              "        dataTable['output_type'] = 'display_data';\n",
              "        await google.colab.output.renderOutput(dataTable, element);\n",
              "        const docLink = document.createElement('div');\n",
              "        docLink.innerHTML = docLinkHtml;\n",
              "        element.appendChild(docLink);\n",
              "      }\n",
              "    </script>\n",
              "  </div>\n",
              "\n",
              "\n",
              "<div id=\"df-bd3dcf14-56ca-4fc3-a8b9-9e27946d35bc\">\n",
              "  <button class=\"colab-df-quickchart\" onclick=\"quickchart('df-bd3dcf14-56ca-4fc3-a8b9-9e27946d35bc')\"\n",
              "            title=\"Suggest charts.\"\n",
              "            style=\"display:none;\">\n",
              "\n",
              "<svg xmlns=\"http://www.w3.org/2000/svg\" height=\"24px\"viewBox=\"0 0 24 24\"\n",
              "     width=\"24px\">\n",
              "    <g>\n",
              "        <path d=\"M19 3H5c-1.1 0-2 .9-2 2v14c0 1.1.9 2 2 2h14c1.1 0 2-.9 2-2V5c0-1.1-.9-2-2-2zM9 17H7v-7h2v7zm4 0h-2V7h2v10zm4 0h-2v-4h2v4z\"/>\n",
              "    </g>\n",
              "</svg>\n",
              "  </button>\n",
              "\n",
              "<style>\n",
              "  .colab-df-quickchart {\n",
              "      --bg-color: #E8F0FE;\n",
              "      --fill-color: #1967D2;\n",
              "      --hover-bg-color: #E2EBFA;\n",
              "      --hover-fill-color: #174EA6;\n",
              "      --disabled-fill-color: #AAA;\n",
              "      --disabled-bg-color: #DDD;\n",
              "  }\n",
              "\n",
              "  [theme=dark] .colab-df-quickchart {\n",
              "      --bg-color: #3B4455;\n",
              "      --fill-color: #D2E3FC;\n",
              "      --hover-bg-color: #434B5C;\n",
              "      --hover-fill-color: #FFFFFF;\n",
              "      --disabled-bg-color: #3B4455;\n",
              "      --disabled-fill-color: #666;\n",
              "  }\n",
              "\n",
              "  .colab-df-quickchart {\n",
              "    background-color: var(--bg-color);\n",
              "    border: none;\n",
              "    border-radius: 50%;\n",
              "    cursor: pointer;\n",
              "    display: none;\n",
              "    fill: var(--fill-color);\n",
              "    height: 32px;\n",
              "    padding: 0;\n",
              "    width: 32px;\n",
              "  }\n",
              "\n",
              "  .colab-df-quickchart:hover {\n",
              "    background-color: var(--hover-bg-color);\n",
              "    box-shadow: 0 1px 2px rgba(60, 64, 67, 0.3), 0 1px 3px 1px rgba(60, 64, 67, 0.15);\n",
              "    fill: var(--button-hover-fill-color);\n",
              "  }\n",
              "\n",
              "  .colab-df-quickchart-complete:disabled,\n",
              "  .colab-df-quickchart-complete:disabled:hover {\n",
              "    background-color: var(--disabled-bg-color);\n",
              "    fill: var(--disabled-fill-color);\n",
              "    box-shadow: none;\n",
              "  }\n",
              "\n",
              "  .colab-df-spinner {\n",
              "    border: 2px solid var(--fill-color);\n",
              "    border-color: transparent;\n",
              "    border-bottom-color: var(--fill-color);\n",
              "    animation:\n",
              "      spin 1s steps(1) infinite;\n",
              "  }\n",
              "\n",
              "  @keyframes spin {\n",
              "    0% {\n",
              "      border-color: transparent;\n",
              "      border-bottom-color: var(--fill-color);\n",
              "      border-left-color: var(--fill-color);\n",
              "    }\n",
              "    20% {\n",
              "      border-color: transparent;\n",
              "      border-left-color: var(--fill-color);\n",
              "      border-top-color: var(--fill-color);\n",
              "    }\n",
              "    30% {\n",
              "      border-color: transparent;\n",
              "      border-left-color: var(--fill-color);\n",
              "      border-top-color: var(--fill-color);\n",
              "      border-right-color: var(--fill-color);\n",
              "    }\n",
              "    40% {\n",
              "      border-color: transparent;\n",
              "      border-right-color: var(--fill-color);\n",
              "      border-top-color: var(--fill-color);\n",
              "    }\n",
              "    60% {\n",
              "      border-color: transparent;\n",
              "      border-right-color: var(--fill-color);\n",
              "    }\n",
              "    80% {\n",
              "      border-color: transparent;\n",
              "      border-right-color: var(--fill-color);\n",
              "      border-bottom-color: var(--fill-color);\n",
              "    }\n",
              "    90% {\n",
              "      border-color: transparent;\n",
              "      border-bottom-color: var(--fill-color);\n",
              "    }\n",
              "  }\n",
              "</style>\n",
              "\n",
              "  <script>\n",
              "    async function quickchart(key) {\n",
              "      const quickchartButtonEl =\n",
              "        document.querySelector('#' + key + ' button');\n",
              "      quickchartButtonEl.disabled = true;  // To prevent multiple clicks.\n",
              "      quickchartButtonEl.classList.add('colab-df-spinner');\n",
              "      try {\n",
              "        const charts = await google.colab.kernel.invokeFunction(\n",
              "            'suggestCharts', [key], {});\n",
              "      } catch (error) {\n",
              "        console.error('Error during call to suggestCharts:', error);\n",
              "      }\n",
              "      quickchartButtonEl.classList.remove('colab-df-spinner');\n",
              "      quickchartButtonEl.classList.add('colab-df-quickchart-complete');\n",
              "    }\n",
              "    (() => {\n",
              "      let quickchartButtonEl =\n",
              "        document.querySelector('#df-bd3dcf14-56ca-4fc3-a8b9-9e27946d35bc button');\n",
              "      quickchartButtonEl.style.display =\n",
              "        google.colab.kernel.accessAllowed ? 'block' : 'none';\n",
              "    })();\n",
              "  </script>\n",
              "</div>\n",
              "    </div>\n",
              "  </div>\n"
            ]
          },
          "metadata": {},
          "execution_count": 133
        }
      ],
      "source": [
        "df = pd.read_csv('sample_data/flights.csv', dtype=str)\n",
        "df.head()"
      ]
    },
    {
      "cell_type": "markdown",
      "metadata": {
        "id": "6vf55K4tWt5Q"
      },
      "source": [
        "Определим колонки с пропущенными значениями"
      ]
    },
    {
      "cell_type": "code",
      "execution_count": null,
      "metadata": {
        "id": "x49NU9jDWt5Q"
      },
      "outputs": [],
      "source": [
        "df.isna().any(axis=0)"
      ]
    },
    {
      "cell_type": "markdown",
      "metadata": {
        "id": "X-01UFKqWt5Q"
      },
      "source": [
        "Найдем строки, для которых не указано время отправления или прибытия"
      ]
    },
    {
      "cell_type": "code",
      "execution_count": null,
      "metadata": {
        "id": "OQDWLMPMWt5Q"
      },
      "outputs": [],
      "source": [
        "df[['DEPARTURE_TIME', 'ARRIVAL_TIME']].isna().any(axis=1)"
      ]
    },
    {
      "cell_type": "markdown",
      "metadata": {
        "id": "h0XUYk0aWt5R"
      },
      "source": [
        "Найдем количество таких строк"
      ]
    },
    {
      "cell_type": "code",
      "execution_count": null,
      "metadata": {
        "id": "F0y6Zw3EWt5R"
      },
      "outputs": [],
      "source": [
        "df[['DEPARTURE_TIME', 'ARRIVAL_TIME']].isna().any(axis=1).sum()"
      ]
    },
    {
      "cell_type": "markdown",
      "metadata": {
        "id": "16MtBDubWt5R"
      },
      "source": [
        "и выбросим их"
      ]
    },
    {
      "cell_type": "code",
      "execution_count": null,
      "metadata": {
        "id": "rwPZaZU6Wt5R"
      },
      "outputs": [],
      "source": [
        "df = df.loc[~df[['DEPARTURE_TIME', 'ARRIVAL_TIME']].isna().any(axis=1)]"
      ]
    },
    {
      "cell_type": "markdown",
      "metadata": {
        "id": "GzqA6mmrWt5R"
      },
      "source": [
        "Пример подсчета уникальных элементов в столбце"
      ]
    },
    {
      "cell_type": "code",
      "execution_count": null,
      "metadata": {
        "id": "NO7xI2bZWt5R"
      },
      "outputs": [],
      "source": [
        "df['AIRLINE'].value_counts()\n",
        "df.AIRLINE.value_counts()\n",
        "df.CANCELLED.value_counts()"
      ]
    },
    {
      "cell_type": "markdown",
      "metadata": {
        "id": "m5fSR5cDWt5S"
      },
      "source": [
        "Плохой пример построения гистограмм по значениям в столбце"
      ]
    },
    {
      "cell_type": "code",
      "execution_count": null,
      "metadata": {
        "id": "U7Z565OoWt5S"
      },
      "outputs": [],
      "source": [
        "fig = plt.figure()\n",
        "fig.patch.set_facecolor('xkcd:white')\n",
        "\n",
        "df.DEPARTURE_DELAY = df.DEPARTURE_DELAY.astype(float)\n",
        "df.DEPARTURE_DELAY.hist()\n",
        "plt.show()"
      ]
    },
    {
      "cell_type": "markdown",
      "metadata": {
        "id": "9UTSgkXcWt5S"
      },
      "source": [
        "Более показательный график"
      ]
    },
    {
      "cell_type": "code",
      "execution_count": null,
      "metadata": {
        "id": "04gYUlXBWt5S"
      },
      "outputs": [],
      "source": [
        "fig = plt.figure()\n",
        "fig.patch.set_facecolor('xkcd:white')\n",
        "\n",
        "df.DEPARTURE_DELAY.hist(bins=20, range=(0, 300))\n",
        "plt.xlabel('Delay (min)')\n",
        "plt.show()"
      ]
    },
    {
      "cell_type": "markdown",
      "metadata": {
        "id": "NQf_bu9RWt5S"
      },
      "source": [
        "Базовые статистики"
      ]
    },
    {
      "cell_type": "code",
      "execution_count": null,
      "metadata": {
        "id": "QA06yTjQWt5T"
      },
      "outputs": [],
      "source": [
        "df.loc[df.DEPARTURE_DELAY > 0, 'DEPARTURE_DELAY'].mean()"
      ]
    },
    {
      "cell_type": "code",
      "execution_count": null,
      "metadata": {
        "id": "szSNhGFXWt5T"
      },
      "outputs": [],
      "source": [
        "df.loc[df.DEPARTURE_DELAY > 0, 'DEPARTURE_DELAY'].std()"
      ]
    },
    {
      "cell_type": "code",
      "execution_count": null,
      "metadata": {
        "id": "DkjNjRQaWt5T"
      },
      "outputs": [],
      "source": [
        "df.loc[df.DEPARTURE_DELAY > 0, 'DEPARTURE_DELAY'].median()"
      ]
    },
    {
      "cell_type": "markdown",
      "metadata": {
        "id": "3HcAGlJmWt5V"
      },
      "source": [
        "Создание колонки с датой, вместо трех отдельных колонок"
      ]
    },
    {
      "cell_type": "code",
      "execution_count": null,
      "metadata": {
        "id": "akaZNaP9Wt5V"
      },
      "outputs": [],
      "source": [
        "pd.to_datetime(df[['YEAR', 'MONTH', 'DAY']])"
      ]
    },
    {
      "cell_type": "markdown",
      "metadata": {
        "id": "opxgy7oVWt5V"
      },
      "source": [
        "Создание новой колонки в таблице"
      ]
    },
    {
      "cell_type": "code",
      "execution_count": null,
      "metadata": {
        "id": "dLSID71pWt5V"
      },
      "outputs": [],
      "source": [
        "df['DATE'] = pd.to_datetime(df[['YEAR', 'MONTH', 'DAY']])\n",
        "df.head()"
      ]
    },
    {
      "cell_type": "markdown",
      "metadata": {
        "id": "r9NLu0DRWt5b"
      },
      "source": [
        "Пример использования:"
      ]
    },
    {
      "cell_type": "code",
      "execution_count": null,
      "metadata": {
        "id": "e4OHfH3vWt5b"
      },
      "outputs": [],
      "source": [
        "df.loc[df.DATE <= pd.to_datetime('2015-02-14')]"
      ]
    },
    {
      "cell_type": "markdown",
      "metadata": {
        "id": "s8sMzV1FWt5c"
      },
      "source": [
        "Удалим ненужные более столбцы"
      ]
    },
    {
      "cell_type": "code",
      "execution_count": null,
      "metadata": {
        "id": "lPXtW7nSWt5c"
      },
      "outputs": [],
      "source": [
        "df = df.drop(columns=['YEAR', 'MONTH', 'DAY'])\n",
        "df.head()"
      ]
    },
    {
      "cell_type": "markdown",
      "metadata": {
        "id": "JniPuWjUWt5d"
      },
      "source": [
        "Как поменять порядок столбцов?"
      ]
    },
    {
      "cell_type": "code",
      "execution_count": null,
      "metadata": {
        "id": "rEc93VDTWt5d"
      },
      "outputs": [],
      "source": [
        "cols = list(df.columns)\n",
        "cols[-1:] + cols[:-1]"
      ]
    },
    {
      "cell_type": "markdown",
      "metadata": {
        "id": "0riimkvgWt5d"
      },
      "source": [
        "Переместим последний столбец на первое место"
      ]
    },
    {
      "cell_type": "code",
      "execution_count": null,
      "metadata": {
        "id": "j0iTz6owWt5e"
      },
      "outputs": [],
      "source": [
        "df = df[cols[-1:] + cols[:-1]]\n",
        "df.head()"
      ]
    },
    {
      "cell_type": "markdown",
      "metadata": {
        "id": "mGTmdN8VWt5f"
      },
      "source": [
        "Посмотрим на столбец ORIGIN_AIRPORT. В нем много непонятных значений"
      ]
    },
    {
      "cell_type": "code",
      "execution_count": null,
      "metadata": {
        "id": "ZHzffS6wWt5f"
      },
      "outputs": [],
      "source": [
        "df.ORIGIN_AIRPORT.unique()"
      ]
    },
    {
      "cell_type": "markdown",
      "metadata": {
        "id": "WH5XGd28Wt5g"
      },
      "source": [
        "Как отделить нормальные значения от ненормальных? Например, по длине строки:"
      ]
    },
    {
      "cell_type": "code",
      "execution_count": null,
      "metadata": {
        "id": "gmyAI1seWt5g"
      },
      "outputs": [],
      "source": [
        "df.ORIGIN_AIRPORT.apply(len)"
      ]
    },
    {
      "cell_type": "markdown",
      "metadata": {
        "id": "5FdoJwUNWt5g"
      },
      "source": [
        "Фильтруем датасет (комментарий: на практике не нужно доверять признаку длина строки, лучше непосредственно проверять, если ли данная запись в справочнике аэропортов)"
      ]
    },
    {
      "cell_type": "code",
      "execution_count": null,
      "metadata": {
        "id": "HMp3Kp7dWt5g"
      },
      "outputs": [],
      "source": [
        "df = df.loc[(df.ORIGIN_AIRPORT.apply(len) == 3) &\n",
        "            (df.DESTINATION_AIRPORT.apply(len) == 3)]"
      ]
    },
    {
      "cell_type": "code",
      "execution_count": null,
      "metadata": {
        "id": "TtZ920J3Wt5h"
      },
      "outputs": [],
      "source": [
        "df.AIRLINE.unique()"
      ]
    },
    {
      "cell_type": "markdown",
      "metadata": {
        "id": "_ytzYfn1Wt5h"
      },
      "source": [
        "Метод loc позволяет получать срезы датасета. Например, найдем из каких городов летает авиакомпание АА:"
      ]
    },
    {
      "cell_type": "code",
      "execution_count": null,
      "metadata": {
        "id": "6hPm8BG9Wt5h"
      },
      "outputs": [],
      "source": [
        "df.loc[df.AIRLINE == 'AA', 'ORIGIN_AIRPORT'].unique()"
      ]
    },
    {
      "cell_type": "markdown",
      "metadata": {
        "id": "v7nUIQ-uWt5h"
      },
      "source": [
        "Также легко найти из каких городов АА делает наибольшее число рейсов"
      ]
    },
    {
      "cell_type": "code",
      "execution_count": null,
      "metadata": {
        "id": "6eYWDO_PWt5i"
      },
      "outputs": [],
      "source": [
        "df.loc[df.AIRLINE == 'AA', 'ORIGIN_AIRPORT'].value_counts()"
      ]
    },
    {
      "cell_type": "markdown",
      "metadata": {
        "id": "akTztw2DWt5i"
      },
      "source": [
        "Иногда вместо таблиц удобно смотреть на графики. У датафрейма и серии есть встроенный метод plot"
      ]
    },
    {
      "cell_type": "code",
      "execution_count": null,
      "metadata": {
        "id": "Cs-WN9-2Wt5j"
      },
      "outputs": [],
      "source": [
        "fig = plt.figure()\n",
        "fig.patch.set_facecolor('xkcd:white')\n",
        "\n",
        "df.loc[df.AIRLINE == 'AA', 'ORIGIN_AIRPORT'].value_counts()[:10].plot(kind='bar')\n",
        "plt.show()"
      ]
    },
    {
      "cell_type": "markdown",
      "metadata": {
        "id": "j4UxXT5EWt5j"
      },
      "source": [
        "Еще один способ как найти перевозчика с наибольшим числом рейсов. Методом groupby"
      ]
    },
    {
      "cell_type": "code",
      "execution_count": null,
      "metadata": {
        "id": "Yh-E1upzWt5k"
      },
      "outputs": [],
      "source": [
        "df.groupby('AIRLINE').size().sort_values()[::-1]"
      ]
    },
    {
      "cell_type": "markdown",
      "metadata": {
        "id": "601rlMYcWt5k"
      },
      "source": [
        "Найдем, сколько времени самолеты каждой авиакомпании проводят в воздухе. Обратите внимание, что сначала строковые значения нужно привести в числовой тип:"
      ]
    },
    {
      "cell_type": "code",
      "execution_count": null,
      "metadata": {
        "id": "S3EF6GJ8Wt5k"
      },
      "outputs": [],
      "source": [
        "df.AIR_TIME = df.AIR_TIME.astype(float)\n",
        "df.groupby('AIRLINE')['AIR_TIME'].sum()"
      ]
    },
    {
      "cell_type": "markdown",
      "metadata": {
        "id": "VUYOj96GWt5l"
      },
      "source": [
        "Найдем авиакомпанию, у которой больше всего география вылетов (как еще можно решить эту задачу?)"
      ]
    },
    {
      "cell_type": "code",
      "execution_count": null,
      "metadata": {
        "id": "bRZfeQu2Wt5l"
      },
      "outputs": [],
      "source": [
        "df.groupby('AIRLINE')['ORIGIN_AIRPORT'].nunique().sort_values()[::-1]"
      ]
    },
    {
      "cell_type": "markdown",
      "metadata": {
        "id": "y1jVjr2pWt5p"
      },
      "source": [
        "У какой авиакомпании больше всего маршрутов?"
      ]
    },
    {
      "cell_type": "code",
      "execution_count": null,
      "metadata": {
        "id": "HBUWlTwuWt5p"
      },
      "outputs": [],
      "source": [
        "df['ROUTE'] = df['ORIGIN_AIRPORT'] + df['DESTINATION_AIRPORT']\n",
        "df.groupby('AIRLINE')['ROUTE'].nunique().sort_values()[::-1]"
      ]
    },
    {
      "cell_type": "markdown",
      "metadata": {
        "id": "5WStG2ovWt5q"
      },
      "source": [
        "Пора заменить кодовые названия авиакомпаний и аэропортов на полные названия. Для этого нужно соединять таблицы из датасета. Есть как минимум 4 способа это сделать:"
      ]
    },
    {
      "cell_type": "markdown",
      "metadata": {
        "id": "ZinEqtX2Wt5q"
      },
      "source": [
        "![](https://www.tektutorialshub.com/wp-content/uploads/2019/12/Differences-in-inner-and-left-right-and-full-outer-joins.png)"
      ]
    },
    {
      "cell_type": "markdown",
      "metadata": {
        "id": "LEojw2jKWt5q"
      },
      "source": [
        "Таблица перевозчиков"
      ]
    },
    {
      "cell_type": "code",
      "execution_count": null,
      "metadata": {
        "id": "J7O7nK1yWt5r"
      },
      "outputs": [],
      "source": [
        "df_air = pd.read_csv('flights/airlines.csv')\n",
        "df_air.head()"
      ]
    },
    {
      "cell_type": "markdown",
      "metadata": {
        "id": "_IxC3EaEWt5r"
      },
      "source": [
        "Подготовим левую таблицу"
      ]
    },
    {
      "cell_type": "code",
      "execution_count": null,
      "metadata": {
        "id": "NKij-iQGWt5r"
      },
      "outputs": [],
      "source": [
        "tmp = df.groupby('AIRLINE')['ROUTE'].nunique().sort_values()[::-1].to_frame().reset_index()\n",
        "tmp.head()"
      ]
    },
    {
      "cell_type": "markdown",
      "metadata": {
        "id": "oH6sxUaKWt5s"
      },
      "source": [
        "Сделаем одно необязательное действие по переименованию колонок"
      ]
    },
    {
      "cell_type": "code",
      "execution_count": null,
      "metadata": {
        "id": "-kPwFRoSWt5s"
      },
      "outputs": [],
      "source": [
        "tmp = tmp.rename(columns={'AIRLINE': 'IATA_CODE'})\n",
        "tmp.head()"
      ]
    },
    {
      "cell_type": "markdown",
      "metadata": {
        "id": "bi_Fp_E4Wt5s"
      },
      "source": [
        "Соединим две таблицы по ключу IATA_CODE"
      ]
    },
    {
      "cell_type": "code",
      "execution_count": null,
      "metadata": {
        "id": "jQfSMFLfWt5u"
      },
      "outputs": [],
      "source": [
        "tmp.merge(df_air, on='IATA_CODE')"
      ]
    },
    {
      "cell_type": "markdown",
      "metadata": {
        "id": "qVkGopg0Wt5u"
      },
      "source": [
        "Теперь поработаем с аэропортами и изобразим на георгрфической карты все маршруты одной из компаний"
      ]
    },
    {
      "cell_type": "markdown",
      "metadata": {
        "id": "1Y0BhqfBWt5v"
      },
      "source": [
        "Считаем таблицу аэропортов"
      ]
    },
    {
      "cell_type": "code",
      "execution_count": null,
      "metadata": {
        "id": "2gGkUk3vWt5v"
      },
      "outputs": [],
      "source": [
        "df_arp = pd.read_csv('flights/airports.csv')\n",
        "df_arp.head()"
      ]
    },
    {
      "cell_type": "markdown",
      "metadata": {
        "id": "ZtbCFEI8Wt5v"
      },
      "source": [
        "Нам потребуется библиотека basemap. Скорее всего, ее придется установить с помощью команды pip install basemap в терминале или в ячейке ноутбука"
      ]
    },
    {
      "cell_type": "code",
      "execution_count": null,
      "metadata": {
        "id": "bVoxiUu2Wt5w"
      },
      "outputs": [],
      "source": [
        "!pip install basemap"
      ]
    },
    {
      "cell_type": "markdown",
      "metadata": {
        "id": "f1ghJZdDWt5w"
      },
      "source": [
        "Отрисуем карту"
      ]
    },
    {
      "cell_type": "code",
      "execution_count": null,
      "metadata": {
        "id": "dL-wwnr7Wt5x"
      },
      "outputs": [],
      "source": [
        "from mpl_toolkits.basemap import Basemap\n",
        "\n",
        "fig = plt.figure(figsize=(15, 10))\n",
        "land = Basemap(projection='lcc', resolution=None,\n",
        "               width=15E6, height=8E6,\n",
        "               lat_0=45, lon_0=-100,)\n",
        "land.etopo(scale=0.5, alpha=0.9)\n",
        "plt.show()"
      ]
    },
    {
      "cell_type": "markdown",
      "metadata": {
        "id": "y8lJhPcuWt5x"
      },
      "source": [
        "Теперь выберем одного перевозчика и все его маршруты:"
      ]
    },
    {
      "cell_type": "code",
      "execution_count": null,
      "metadata": {
        "id": "O5PFn8k4Wt5y"
      },
      "outputs": [],
      "source": [
        "routes = df.loc[df.AIRLINE == 'AA', ['ORIGIN_AIRPORT', 'DESTINATION_AIRPORT']].drop_duplicates()\n",
        "routes"
      ]
    },
    {
      "cell_type": "markdown",
      "metadata": {
        "id": "9OQ6J4VaWt5y"
      },
      "source": [
        "Нам нужно создать два массива с координатами городом вылета и приземления"
      ]
    },
    {
      "cell_type": "code",
      "execution_count": null,
      "metadata": {
        "id": "kUbYLi8xWt5z"
      },
      "outputs": [],
      "source": [
        "orig = routes[['ORIGIN_AIRPORT']].merge(df_arp,\n",
        "                                        left_on='ORIGIN_AIRPORT',\n",
        "                                        right_on='IATA_CODE',\n",
        "                                        how='left')\n",
        "dest = routes[['DESTINATION_AIRPORT']].merge(df_arp,\n",
        "                                             left_on='DESTINATION_AIRPORT',\n",
        "                                             right_on='IATA_CODE',\n",
        "                                             how='left')\n",
        "orig"
      ]
    },
    {
      "cell_type": "markdown",
      "metadata": {
        "id": "-scW0_XRWt5z"
      },
      "source": [
        "Чтобы нанести точку с заданной широтой/долготой на карту, георгафические координаты нужно перевести в x, y. Технически, это делается так:\n",
        "```python\n",
        "x, y = land(long, lat)```"
      ]
    },
    {
      "cell_type": "markdown",
      "metadata": {
        "id": "VqaziXoQWt50"
      },
      "source": [
        "Практически, это можно реализовать несколькоми способами. Ниже показано два варианта:"
      ]
    },
    {
      "cell_type": "code",
      "execution_count": null,
      "metadata": {
        "id": "f10izuQJWt50"
      },
      "outputs": [],
      "source": [
        "orig_xy = orig[['LONGITUDE', 'LATITUDE']].apply(lambda x: land(*x), axis=1).values\n",
        "orig_xy = np.stack(orig_xy) #делаем из списка пар координат двумерный массив:\n",
        "orig_xy"
      ]
    },
    {
      "cell_type": "markdown",
      "metadata": {
        "id": "lkFvkD3BWt51"
      },
      "source": [
        "А можно было сделать так"
      ]
    },
    {
      "cell_type": "code",
      "execution_count": null,
      "metadata": {
        "id": "74wika-3Wt51"
      },
      "outputs": [],
      "source": [
        "dest_xy = np.array(land(dest['LONGITUDE'], dest['LATITUDE'])).T\n",
        "dest_xy"
      ]
    },
    {
      "cell_type": "markdown",
      "metadata": {
        "id": "ekf7MzKzWt52"
      },
      "source": [
        "Отрисуем линии на карте:"
      ]
    },
    {
      "cell_type": "code",
      "execution_count": null,
      "metadata": {
        "id": "DsOMgyv2Wt52"
      },
      "outputs": [],
      "source": [
        "fig = plt.figure(figsize=(15, 10))\n",
        "m = Basemap(projection='lcc', resolution=None,\n",
        "            width=15E6, height=8E6,\n",
        "            lat_0=45, lon_0=-100,)\n",
        "m.etopo(scale=0.5, alpha=0.9)\n",
        "\n",
        "for a, b in zip(orig_xy, dest_xy):\n",
        "    plt.plot([a[0], b[0]], [a[1], b[1]], c='k', lw=1)\n",
        "plt.show()"
      ]
    },
    {
      "cell_type": "markdown",
      "metadata": {
        "id": "CXlHxoCaJxoa"
      },
      "source": [
        "Домашнее задание - подготовить отчет для министерства транспорта, раскрывающий характер и особенности задержек авиарейсов. Отчет должен помочь увидеть проблемные точки и способствовать принятию решений. Поэтому стремитесь не констатировать общие факты, а показывать проблемы. Например, сам по себе факт \"средняя задержка вылета составляет 15 минут\" мало о чем говорит и не помогает понять, из-за чего так происходит. Напротив, график, показывающий, что по понедельникам опоздания возрастают в три раза по сравнению с остальными днями на фоне возрастания числа рейсов и пассажиров, подсказывает возможную причину проблемы: аэропорты не справляются с неравномерной нагрузкой.\n",
        "\n",
        "Отчет должен быть оформлен в виде ноутбука с четкой структурой. Вначале в ячейке Markdown идет краткое описание исследуемого вопроса (что будем изучать), затем код и все его выводы (таблицы, графики, величины), после этого снова в ячейке Markdown в которой сформулирован ваш краткий вывод.\n",
        "\n",
        "В отчете должно быть не менее 5 результатов, подтвержденных графиками. Для разнообразия материала используйте различные типы диаграмм. Все графики должны быть снабжены необходимыми подписями (обозначения осей, заголовок, легенда цветовая схема).\n",
        "\n",
        "Для решения задач используйте методы библиотеки pandas."
      ]
    },
    {
      "cell_type": "markdown",
      "source": [
        "№1 здесь посчитаем CANCELLATION_REASON в зависимости от дня недели, а также общее количество отмен в зависимости от дня недели"
      ],
      "metadata": {
        "id": "3_TALShF6Zbw"
      }
    },
    {
      "cell_type": "code",
      "source": [
        "Days = df.DAY_OF_WEEK.unique() #номера дней\n",
        "Days.sort()\n",
        "Cancellations_Days = np.zeros(len(Days)) #количество отмен в определенный день\n",
        "Cancellations_Days_A = np.zeros(len(Days)) #количество отмен по причине A в определенный день\n",
        "Cancellations_Days_B = np.zeros(len(Days)) #количество отмен по причине B в определенный день\n",
        "Cancellations_Days_C = np.zeros(len(Days)) #количество отмен по причине C в определенный день\n",
        "Cancellations_Days_D = np.zeros(len(Days)) #количество отмен по причине D в определенный день\n",
        "for i in range(0, len(Days)):\n",
        "  Cancellations_Days_A[i]= len(df[(df['DAY_OF_WEEK'].isin([Days[i]])) & (df['CANCELLATION_REASON'].isin(['A']))])\n",
        "  Cancellations_Days_B[i] = len(df[(df['DAY_OF_WEEK'].isin([Days[i]])) & (df['CANCELLATION_REASON'].isin(['B']))])\n",
        "  Cancellations_Days_C[i] = len(df[(df['DAY_OF_WEEK'].isin([Days[i]])) & (df['CANCELLATION_REASON'].isin(['C']))])\n",
        "  Cancellations_Days_D[i] = len(df[(df['DAY_OF_WEEK'].isin([Days[i]])) & (df['CANCELLATION_REASON'].isin(['D']))])\n",
        "  Cancellations_Days[i] = Cancellations_Days_A[i]+Cancellations_Days_B[i]+Cancellations_Days_C[i]+Cancellations_Days_D[i]\n",
        "plt.figure(figsize=(20, 5))\n",
        "ax1 = plt.subplot(1, 5, 1)\n",
        "ax1.bar(Days, Cancellations_Days_A, color = 'red', label = 'A reason')\n",
        "ax1.legend()\n",
        "plt.xticks(ticks = Days)\n",
        "ax2 = plt.subplot(1, 5, 2)\n",
        "ax2.bar(Days, Cancellations_Days_B, color = 'blue', label = 'B reason')\n",
        "ax2.legend()\n",
        "plt.xticks(ticks = Days)\n",
        "ax3 = plt.subplot(1, 5, 3)\n",
        "ax3.bar(Days, Cancellations_Days_C, color = 'green', label = 'C reason')\n",
        "ax3.legend()\n",
        "plt.xticks(ticks = Days)\n",
        "ax4 = plt.subplot(1, 5, 4)\n",
        "ax4.bar(Days, Cancellations_Days_D, color = 'yellow', label = 'D reason')\n",
        "ax4.legend()\n",
        "plt.xticks(ticks = Days)\n",
        "ax5 = plt.subplot(1, 5, 5)\n",
        "ax5.bar(Days, Cancellations_Days, color = 'orange', label = 'Total reasons')\n",
        "ax5.legend()\n",
        "plt.xticks(ticks = Days)\n",
        "plt.show()"
      ],
      "metadata": {
        "id": "zehWdwYe8UKs",
        "colab": {
          "base_uri": "https://localhost:8080/",
          "height": 409
        },
        "outputId": "92f105e8-a0b3-4be8-ded7-007d60232111"
      },
      "execution_count": 73,
      "outputs": [
        {
          "output_type": "stream",
          "name": "stdout",
          "text": [
            "[nan 'A' 'B' 'C' 'D']\n"
          ]
        },
        {
          "output_type": "display_data",
          "data": {
            "text/plain": [
              "<Figure size 2000x500 with 5 Axes>"
            ],
            "image/png": "[encoded data removed]"
          },
          "metadata": {}
        }
      ]
    },
    {
      "cell_type": "markdown",
      "source": [
        "Вывод №1 : Благодаря этой пачке графиков можем сделать вывод о том, что чаще всего маршруты отменяются в понедельник, а затем во вторник. Однако частота отмен зависит от причины- разные причины отмены возникают в разные дни.\n",
        "\n"
      ],
      "metadata": {
        "id": "v1_PAMF8_3J-"
      }
    },
    {
      "cell_type": "markdown",
      "source": [
        "№2 здесь посчитаем зависимость различных причин отмен от компаний(выведем относительное количество отмен), а также посчитаем общее количество отмен каждой компании"
      ],
      "metadata": {
        "id": "ANyTQu_S6j0k"
      }
    },
    {
      "cell_type": "code",
      "source": [
        "Companies = df.AIRLINE.unique()\n",
        "Companies_Flights = np.zeros(len(Companies))\n",
        "Companies_A_Cancellations = np.zeros(len(Companies)) #количество отмен определенной авиакомпании по причине A\n",
        "Companies_B_Cancellations = np.zeros(len(Companies)) #количество отмен определенной авиакомпании по причине B\n",
        "Companies_C_Cancellations = np.zeros(len(Companies)) #количество отмен определенной авиакомпании по причине C\n",
        "Companies_D_Cancellations = np.zeros(len(Companies)) #количество отмен определенной авиакомпании по причине D\n",
        "Companies_Total_Cancellations = np.zeros(len(Companies)) #количество отмен определенной авиакомпании\n",
        "\n",
        "for i in range(0, len(Companies)):\n",
        "  Companies_Flights[i] =len(df[df['AIRLINE'].isin([Companies[i]])])\n",
        "  Companies_A_Cancellations[i] = len(df[(df['AIRLINE'].isin([Companies[i]])) & (df['CANCELLATION_REASON'].isin(['A']))])\n",
        "  Companies_B_Cancellations[i] = len(df[(df['AIRLINE'].isin([Companies[i]])) & (df['CANCELLATION_REASON'].isin(['B']))])\n",
        "  Companies_C_Cancellations[i] = len(df[(df['AIRLINE'].isin([Companies[i]])) & (df['CANCELLATION_REASON'].isin(['C']))])\n",
        "  Companies_D_Cancellations[i] = len(df[(df['AIRLINE'].isin([Companies[i]])) & (df['CANCELLATION_REASON'].isin(['D']))])\n",
        "  Companies_Total_Cancellations = Companies_A_Cancellations[i]+Companies_B_Cancellations[i]+Companies_C_Cancellations[i]+Companies_D_Cancellations[i]\n",
        "plt.figure(figsize=(20, 5))\n",
        "ax1 = plt.subplot(1, 5, 1)\n",
        "ax1.bar(Companies, Companies_A_Cancellations/Companies_Flights, color = 'red', label = 'A reason')\n",
        "ax1.legend()\n",
        "ax2 = plt.subplot(1, 5, 2)\n",
        "ax2.bar(Companies, Companies_B_Cancellations/Companies_Flights, color = 'blue', label = 'B reason')\n",
        "ax2.legend()\n",
        "ax3 = plt.subplot(1, 5, 3)\n",
        "ax3.bar(Companies, Companies_C_Cancellations/Companies_Flights, color = 'green', label = 'C reason')\n",
        "ax3.legend()\n",
        "ax4 = plt.subplot(1, 5, 4)\n",
        "ax4.bar(Companies, Companies_D_Cancellations/Companies_Flights, color = 'yellow', label = 'D reason')\n",
        "ax4.legend()\n",
        "ax5 = plt.subplot(1, 5, 5)\n",
        "ax5.bar(Companies, Companies_Total_Cancellations/Companies_Flights, color = 'orange', label = 'Total reasons ')\n",
        "ax5.legend()\n",
        "plt.show()"
      ],
      "metadata": {
        "id": "kH_E_zC1SUeZ",
        "colab": {
          "base_uri": "https://localhost:8080/",
          "height": 404
        },
        "outputId": "aca7a3cd-ffe3-423d-edf2-f40eb7b8bef1"
      },
      "execution_count": 57,
      "outputs": [
        {
          "output_type": "display_data",
          "data": {
            "text/plain": [
              "<Figure size 2000x500 with 5 Axes>"
            ],
            "image/png": "[encoded data removed]"
          },
          "metadata": {}
        }
      ]
    },
    {
      "cell_type": "markdown",
      "source": [
        "Вывод №2: Благодаря этой пачке графиков, понимаем что чаще всего отменяет рейсы именно компания VX, а значит, если будет необходимость разорвать с какой-то из авиакомпаний контракт, то есть минус у авиакомпании VX - самая ненадежная из представленных"
      ],
      "metadata": {
        "id": "tC7wuVZcBMO0"
      }
    },
    {
      "cell_type": "markdown",
      "source": [
        "№3 здесь посчитаем diverted в зависимости от дня недели для всех компаний"
      ],
      "metadata": {
        "id": "BUfmosf66nMc"
      }
    },
    {
      "cell_type": "code",
      "source": [
        "print(df.DIVERTED.unique())\n",
        "Days = df.DAY_OF_WEEK.unique()\n",
        "Days_Diverted = np.zeros(len(Days))\n",
        "Days.sort()\n",
        "print(len(df[df['DIVERTED']=='1'])) # выводится 0, а значит не было ситуаций, когда маршрут перенесли в другую точку назначения\n",
        "for i in range(0, len(Days)):\n",
        "  Days_Diverted[i] = len(df[(df['DAY_OF_WEEK'].isin([Days[i]])) & (df['DIVERTED'].isin(['1']))])\n",
        "plt.bar(Days, Days_Diverted)\n",
        "plt.show()"
      ],
      "metadata": {
        "colab": {
          "base_uri": "https://localhost:8080/",
          "height": 465
        },
        "id": "5kfhgJK0BOG_",
        "outputId": "d8d2fb4f-163e-4bfd-fc3a-523084db1182"
      },
      "execution_count": 63,
      "outputs": [
        {
          "output_type": "stream",
          "name": "stdout",
          "text": [
            "[0 1]\n",
            "0\n"
          ]
        },
        {
          "output_type": "display_data",
          "data": {
            "text/plain": [
              "<Figure size 640x480 with 1 Axes>"
            ],
            "image/png": "[encoded data removed]"
          },
          "metadata": {}
        }
      ]
    },
    {
      "cell_type": "code",
      "source": [
        "#здесь посчитаем относительное diverted в зависимости от компании\n",
        "print(df.DIVERTED.unique())\n",
        "Companies = df.AIRLINE.unique()\n",
        "Companies_Diverted = np.zeros(len(Companies))\n",
        "Companies_Flights = np.zeros(len(Companies))\n",
        "for i in range(0, len(Companies)):\n",
        "  Companies_Flights[i] =len(df[df['AIRLINE'].isin([Companies[i]])])\n",
        "  Companies_Diverted[i] = len(df[(df['AIRLINE'].isin([Companies[i]])) & (df['DIVERTED'].isin(['1']))])\n",
        "plt.bar(Companies, Companies_Diverted/Companies_Flights)\n",
        "plt.show()"
      ],
      "metadata": {
        "colab": {
          "base_uri": "https://localhost:8080/",
          "height": 447
        },
        "id": "6I9BRwJ5BWnU",
        "outputId": "e0647e6c-0cf1-4762-bb3d-d2a6478c14f5"
      },
      "execution_count": 64,
      "outputs": [
        {
          "output_type": "stream",
          "name": "stdout",
          "text": [
            "[0 1]\n"
          ]
        },
        {
          "output_type": "display_data",
          "data": {
            "text/plain": [
              "<Figure size 640x480 with 1 Axes>"
            ],
            "image/png": "[encoded data removed]"
          },
          "metadata": {}
        }
      ]
    },
    {
      "cell_type": "markdown",
      "source": [
        "Вывод №3:\n",
        "В данной таблице DIVERTED не было, но если бы было больше значений, то мы могли бы узнать компанию, которая больше чаще остальных переносила точку назначения, то мы бы отказались от этой *компании*(если нам нужно отказаться от какой-то одной компании)"
      ],
      "metadata": {
        "id": "f1g4MWG6BfJa"
      }
    },
    {
      "cell_type": "code",
      "source": [
        "from heapq import nlargest\n",
        "k = 10\n",
        "#почему-то при считывании df.ORIGIN_AIRPORT.unique() и df.DESTINATION_AIRPORT.unique() еще выводятся очень много строк пятизначных чисел, а почему- интернет ответа не знает\n",
        "#поэтому здесь и ниже придется сделать костыль и откинуть те значения origin_airport и destination_airport, которые являются числами, записанными в строчном виде\n",
        "Fake_Origin_Airports = df.ORIGIN_AIRPORT.unique()\n",
        "Origin_Airports = []\n",
        "for t in Fake_Origin_Airports:\n",
        "  if t.isdigit()==False:\n",
        "    Origin_Airports.append(t)\n",
        "#костыль окончен\n",
        "Mean_Departure_Delay = np.zeros(len(Origin_Airports))\n",
        "Result_Departure_Means = np.zeros(k)\n",
        "Result_Origin_Airports = ['0']*k\n",
        "df['DEPARTURE_DELAY'] = df['DEPARTURE_DELAY'].astype( float )\n",
        "for i in range(0, len(Origin_Airports)):\n",
        "  Mean_Departure_Delay[i] = df[df['ORIGIN_AIRPORT'].isin([Origin_Airports[i]])].DEPARTURE_DELAY.mean()\n",
        "Dictionary_Mean_Origin = {Mean_Departure_Delay[s]: Origin_Airports[s] for s in range(0,len(Origin_Airports))}\n",
        "Result_Departure_Means = nlargest(k, Mean_Departure_Delay)\n",
        "for j in range(0,k):\n",
        "  Result_Origin_Airports[j] = Dictionary_Mean_Origin.get(Result_Departure_Means[j])\n",
        "plt.bar(Result_Origin_Airports, Result_Departure_Means)\n",
        "plt.show()\n",
        "print(Result_Departure_Means)\n",
        "print(Result_Origin_Airports)"
      ],
      "metadata": {
        "colab": {
          "base_uri": "https://localhost:8080/",
          "height": 485
        },
        "id": "wLI64IjEBgvy",
        "outputId": "dc145ac4-51b3-40a4-cc74-e99a953297ee"
      },
      "execution_count": 167,
      "outputs": [
        {
          "output_type": "display_data",
          "data": {
            "text/plain": [
              "<Figure size 640x480 with 1 Axes>"
            ],
            "image/png": "[encoded data removed]"
          },
          "metadata": {}
        },
        {
          "output_type": "stream",
          "name": "stdout",
          "text": [
            "[29.391752577319586, 25.90731707317073, 23.182926829268293, 18.692307692307693, 17.777358490566037, 17.58753799392097, 17.413793103448278, 17.17105263157895, 17.02085620197585, 16.647590361445783]\n",
            "['ILG', 'MVY', 'HYA', 'STC', 'OTH', 'ASE', 'CEC', 'GST', 'BPT', 'GUM']\n"
          ]
        }
      ]
    },
    {
      "cell_type": "markdown",
      "source": [
        "Вывод №4: получаем, что хуже всего с отправлением самолетов справляется аэропорт ILG."
      ],
      "metadata": {
        "id": "WYeKnP-i5ZPG"
      }
    },
    {
      "cell_type": "markdown",
      "source": [
        "№5 здесь посчитаем зависимость arrival_delay в зависимости от destination_airport"
      ],
      "metadata": {
        "id": "RoZf6GMg7csl"
      }
    },
    {
      "cell_type": "code",
      "source": [
        "from heapq import nlargest\n",
        "k = 10\n",
        "Destination_Airports = df.DESTINATION_AIRPORT.unique()\n",
        "#начало костыля\n",
        "Fake_Destination_Airports = df.DESTINATION_AIRPORT.unique()\n",
        "Destination_Airports = []\n",
        "for t in Fake_Destination_Airports:\n",
        "  if t.isdigit()==False:\n",
        "    Destination_Airports.append(t)\n",
        "#конец костыля\n",
        "Mean_Arrival_Delay = np.zeros(len(Destination_Airports))\n",
        "Result_Arrival_Means = np.zeros(k)\n",
        "Result_Arrival_Airports = ['0']*k\n",
        "df['ARRIVAL_DELAY'] = df['ARRIVAL_DELAY'].astype( float )\n",
        "for i in range(0, len(Destination_Airports)):\n",
        "  Mean_Arrival_Delay[i] = df[df['DESTINATION_AIRPORT'].isin([Destination_Airports[i]])].ARRIVAL_DELAY.mean()\n",
        "Dictionary_Mean_Destination = {Mean_Arrival_Delay[s]: Destination_Airports[s] for s in range(0,len(Destination_Airports))}\n",
        "Result_Arrival_Means = nlargest(k, Mean_Arrival_Delay)\n",
        "for j in range(0,k):\n",
        "  Result_Arrival_Airports[j] = Dictionary_Mean_Destination.get(Result_Arrival_Means[j])\n",
        "plt.bar(Result_Arrival_Airports, Result_Arrival_Means)\n",
        "plt.show()\n",
        "print(Result_Arrival_Means)\n",
        "print(Result_Arrival_Airports)"
      ],
      "metadata": {
        "colab": {
          "base_uri": "https://localhost:8080/",
          "height": 485
        },
        "id": "lCHRJ7NrBzKI",
        "outputId": "ecec83a6-8dd4-4fc6-a207-539e0d8df231"
      },
      "execution_count": 168,
      "outputs": [
        {
          "output_type": "display_data",
          "data": {
            "text/plain": [
              "<Figure size 640x480 with 1 Axes>"
            ],
            "image/png": "[encoded data removed]"
          },
          "metadata": {}
        },
        {
          "output_type": "stream",
          "name": "stdout",
          "text": [
            "[23.025974025974026, 21.989473684210527, 17.43390076059399, 17.3202416918429, 16.7406015037594, 16.152027027027028, 15.829447852760737, 15.288256227758007, 14.631693989071039, 12.19277108433735]\n",
            "['STC', 'ILG', 'TTN', 'GUM', 'OTH', 'MQT', 'ASE', 'PBG', 'BPT', 'BQN']\n"
          ]
        }
      ]
    },
    {
      "cell_type": "markdown",
      "source": [
        "Вывод №5:\n",
        "Получаем, что хуже всего с приемом самолетов справляется аэропорт STC"
      ],
      "metadata": {
        "id": "DMUXuCVeB-NY"
      }
    }
  ],
  "metadata": {
    "colab": {
      "provenance": []
    },
    "kernelspec": {
      "display_name": "Python 3",
      "language": "python",
      "name": "python3"
    },
    "language_info": {
      "codemirror_mode": {
        "name": "ipython",
        "version": 3
      },
      "file_extension": ".py",
      "mimetype": "text/x-python",
      "name": "python",
      "nbconvert_exporter": "python",
      "pygments_lexer": "ipython3",
      "version": "3.7.0"
    }
  },
  "nbformat": 4,
  "nbformat_minor": 0
}